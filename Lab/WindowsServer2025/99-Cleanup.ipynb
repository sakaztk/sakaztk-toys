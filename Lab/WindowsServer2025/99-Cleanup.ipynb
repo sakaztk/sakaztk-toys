{
 "cells": [
  {
   "cell_type": "code",
   "execution_count": 1,
   "id": "943b9327-2b6a-4134-934e-4b0b03796df2",
   "metadata": {},
   "outputs": [
    {
     "name": "stdout",
     "output_type": "stream",
     "text": []
    }
   ],
   "source": [
    "$vmName    = 'Windows2025'\n",
    "$vhdPath   = \"$VMName.vhdx\"\n",
    "$tempISO   = 'autounattend.iso'\n",
    "$xmlFolder = 'autounattend'"
   ]
  },
  {
   "cell_type": "markdown",
   "id": "169bec86-148b-4c99-b59d-3030cfe96d3e",
   "metadata": {},
   "source": [
    "VM削除"
   ]
  },
  {
   "cell_type": "code",
   "execution_count": 2,
   "id": "456cd802-a321-4a07-9dcd-61429c3d2a76",
   "metadata": {},
   "outputs": [
    {
     "name": "stdout",
     "output_type": "stream",
     "text": [
      "VERBOSE: Remove-VM は、仮想マシン \"Windows2025\" を削除します。\n"
     ]
    }
   ],
   "source": [
    "if ($vm = Get-VM $vmName -ErrorAction SilentlyContinue) {\n",
    "    if ($vm.State -ne 'Off') { \n",
    "        Stop-VM -Name $vmName -Force -Verbose\n",
    "        while ((Get-VM $vmName).State -ne 'Off') {\n",
    "            Start-Sleep -Seconds 1\n",
    "        }\n",
    "    }\n",
    "    Remove-VM -Name $vmName -Force -Verbose\n",
    "}"
   ]
  },
  {
   "cell_type": "markdown",
   "id": "0f97d492-ee41-4faa-80c8-1cd51b2efc69",
   "metadata": {},
   "source": [
    "VHD削除"
   ]
  },
  {
   "cell_type": "code",
   "execution_count": 3,
   "id": "21382492-01cb-42e5-a6d8-e40e3f23b7c1",
   "metadata": {},
   "outputs": [
    {
     "name": "stdout",
     "output_type": "stream",
     "text": [
      "VERBOSE: 対象 \"C:\\local\\Lab\\win2025\\Windows2025.vhdx\" に対して操作 \"ファイルの削除\" を実行しています。\n"
     ]
    }
   ],
   "source": [
    "if (Test-Path $vhdPath) {\n",
    "    Remove-Item $vhdPath -Force -Verbose\n",
    "}"
   ]
  },
  {
   "cell_type": "markdown",
   "id": "16683268-e5c9-4766-8ac4-d82f0a40c16a",
   "metadata": {},
   "source": [
    "isoファイル削除"
   ]
  },
  {
   "cell_type": "code",
   "execution_count": 4,
   "id": "a87c886d-fa39-465d-982b-a9b95e942f49",
   "metadata": {},
   "outputs": [
    {
     "name": "stdout",
     "output_type": "stream",
     "text": [
      "VERBOSE: 対象 \"C:\\local\\Lab\\win2025\\autounattend.iso\" に対して操作 \"ファイルの削除\" を実行しています。\n"
     ]
    }
   ],
   "source": [
    "if (Test-Path $tempISO) {\n",
    "    Remove-Item $tempISO -Force -Verbose\n",
    "}"
   ]
  },
  {
   "cell_type": "markdown",
   "id": "2ae6a4de-2ff3-4888-9c41-2efb4ac5b131",
   "metadata": {},
   "source": [
    "フォルダ削除"
   ]
  },
  {
   "cell_type": "code",
   "execution_count": 5,
   "id": "9c5acfa2-ca46-49db-bd76-4763c4b02eb9",
   "metadata": {},
   "outputs": [
    {
     "name": "stdout",
     "output_type": "stream",
     "text": [
      "VERBOSE: 対象 \"C:\\local\\Lab\\win2025\\autounattend\" に対して操作 \"ディレクトリの削除\" を実行しています。\n",
      "VERBOSE: 対象 \"C:\\local\\Lab\\win2025\\autounattend\\autounattend.xml\" に対して操作 \"ファイルの削除\" を実行しています。\n"
     ]
    }
   ],
   "source": [
    "if (Test-Path $xmlFolder) {\n",
    "    Remove-Item $xmlFolder -Recurse -Force -Verbose\n",
    "}"
   ]
  },
  {
   "cell_type": "code",
   "execution_count": null,
   "id": "cb165fb9-227b-4474-824b-aebc04df4c9f",
   "metadata": {},
   "outputs": [],
   "source": []
  }
 ],
 "metadata": {
  "kernelspec": {
   "display_name": "PowerShell 5",
   "language": "Powershell",
   "name": "powershell5"
  },
  "language_info": {
   "codemirror_mode": "powershell",
   "file_extension": "ps1",
   "mimetype": "application/x-powershell",
   "name": "powershell",
   "nbconvert_exporter": "script",
   "pygments_lexer": "powershell",
   "version": "5.1.0"
  }
 },
 "nbformat": 4,
 "nbformat_minor": 5
}

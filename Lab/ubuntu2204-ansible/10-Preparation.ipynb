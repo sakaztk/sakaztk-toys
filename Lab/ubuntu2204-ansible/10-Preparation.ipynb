{
 "cells": [
  {
   "cell_type": "markdown",
   "id": "685054f7-1f9e-4478-b6c7-034ea5820ede",
   "metadata": {},
   "source": [
    "# 内部スイッチ作成"
   ]
  },
  {
   "cell_type": "markdown",
   "id": "bf5e9f14-0f3a-408e-a2bf-4d728a4b635c",
   "metadata": {},
   "source": [
    "## スイッチ名とIPアドレス\n",
    "内部通信用スイッチを作成してホスト側アダプターにIPアドレスを設定"
   ]
  },
  {
   "cell_type": "code",
   "execution_count": null,
   "id": "41ae69b4-bdb9-4b67-a5db-b35eef6294d2",
   "metadata": {},
   "outputs": [],
   "source": [
    "$switchName = 'InternalSwitch'\n",
    "$ipAddress = '192.168.128.250'\n",
    "$prefixLength = 24"
   ]
  },
  {
   "cell_type": "markdown",
   "id": "1147d634-d2bb-49d6-b238-e6a6878bfa9d",
   "metadata": {},
   "source": [
    "## スイッチ作成"
   ]
  },
  {
   "cell_type": "code",
   "execution_count": null,
   "id": "078557ed-6bb3-4d8f-add5-f37af23e28ba",
   "metadata": {},
   "outputs": [],
   "source": [
    "$switchName = 'InternalSwitch'\n",
    "$existing = Get-VMSwitch -SwitchType Internal | Where-Object {$_.Name -eq $switchName}\n",
    "if (-not($existing)) {\n",
    "    'Creating...'\n",
    "    New-VMSwitch -Name $switchName -SwitchType Internal -Verbose\n",
    "}\n",
    "else {\n",
    "    'Existing'\n",
    "    $existing\n",
    "}"
   ]
  },
  {
   "cell_type": "markdown",
   "id": "11f195b3-2377-4e38-a95f-5a309b3f4ba9",
   "metadata": {},
   "source": [
    "## IPアドレス設定"
   ]
  },
  {
   "cell_type": "code",
   "execution_count": null,
   "id": "90af7b05-3846-4fd4-a845-acc25dd8a2aa",
   "metadata": {},
   "outputs": [],
   "source": [
    "$adapterName = \"vEthernet ($switchName)\"\n",
    "$adapter = Get-NetAdapter -Name $adapterName -ErrorAction SilentlyContinue\n",
    "if ($adapter) {\n",
    "    Get-NetIPAddress -InterfaceAlias $adapterName -AddressFamily IPv4 -ErrorAction SilentlyContinue | `\n",
    "        Remove-NetIPAddress -Confirm:$false -ErrorAction SilentlyContinue -Verbose\n",
    "    New-NetIPAddress -InterfaceAlias $adapterName -IPAddress $ipAddress -PrefixLength $prefixLength -Verbose\n",
    "}"
   ]
  },
  {
   "cell_type": "markdown",
   "id": "c68185b8-3d8d-4fa6-bfec-c9903b93942e",
   "metadata": {},
   "source": [
    "# SMB共有用設定"
   ]
  },
  {
   "cell_type": "markdown",
   "id": "6382c6e3-2601-44f0-b498-fa8bdb4537c4",
   "metadata": {},
   "source": [
    "## SMB用ユーザー作成"
   ]
  },
  {
   "cell_type": "code",
   "execution_count": null,
   "id": "fa894a6f-2d25-4126-9d4d-eb5fffc8b6cc",
   "metadata": {},
   "outputs": [],
   "source": [
    "if(-not(Get-LocalUser -Name vagrant)) {\n",
    "    New-LocalUser vagrant -Password (ConvertTo-SecureString vagrant -AsPlainText -Force) -PasswordNeverExpires -AccountNeverExpires -Verbose\n",
    "}"
   ]
  },
  {
   "cell_type": "markdown",
   "id": "3644aca9-d6a7-4edc-9c84-56fee57c1c5e",
   "metadata": {},
   "source": [
    "## アクセス権設定"
   ]
  },
  {
   "cell_type": "code",
   "execution_count": null,
   "id": "e37a5de0-d859-44fe-8246-df91b89008fd",
   "metadata": {},
   "outputs": [],
   "source": [
    "$acl = Get-Acl '.'\n",
    "$accessRule = New-Object System.Security.AccessControl.FileSystemAccessRule('vagrant', 'FullControl', 'ContainerInherit,ObjectInherit', 'None', 'Allow')\n",
    "$acl.SetAccessRule($accessRule)\n",
    "Set-Acl -Path '.' -AclObject $acl -Verbose"
   ]
  },
  {
   "cell_type": "code",
   "execution_count": null,
   "id": "bcac0727-53e5-47b6-bd6b-101db38a62ac",
   "metadata": {},
   "outputs": [],
   "source": []
  }
 ],
 "metadata": {
  "kernelspec": {
   "display_name": "PowerShell 5",
   "language": "Powershell",
   "name": "powershell5"
  },
  "language_info": {
   "codemirror_mode": "powershell",
   "file_extension": "ps1",
   "mimetype": "application/x-powershell",
   "name": "powershell",
   "nbconvert_exporter": "script",
   "pygments_lexer": "powershell",
   "version": "5.1.0"
  }
 },
 "nbformat": 4,
 "nbformat_minor": 5
}

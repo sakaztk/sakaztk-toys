{
 "cells": [
  {
   "cell_type": "markdown",
   "id": "45dd332a-311b-4924-9b18-f7d8e7e2daf6",
   "metadata": {},
   "source": [
    "# vagrant up\n",
    "スイッチ選択の画面が出たら \"Default Switch\" の番号を入力してEnter"
   ]
  },
  {
   "cell_type": "code",
   "execution_count": null,
   "id": "069639d8-91dc-4c71-b686-e25da1f61818",
   "metadata": {},
   "outputs": [],
   "source": [
    "Start-Process powershell -ArgumentList '-NoLogo', '-NoExit', '-Command', 'vagrant up'"
   ]
  },
  {
   "cell_type": "markdown",
   "id": "913c4ebb-ef3c-4fcc-89dd-7d47b9b6eb27",
   "metadata": {},
   "source": [
    "# SSH接続\n",
    "vagrant ssh で各ホストに接続する場合"
   ]
  },
  {
   "cell_type": "code",
   "execution_count": null,
   "id": "f7fdb221-aaca-4431-9dcf-f5689408aa12",
   "metadata": {},
   "outputs": [],
   "source": [
    "Start-Process powershell -ArgumentList '-NoLogo', '-Command', 'vagrant ssh ansible-ubuntu22'"
   ]
  },
  {
   "cell_type": "code",
   "execution_count": null,
   "id": "d8804584-fdbb-4530-becd-41dbfabee184",
   "metadata": {},
   "outputs": [],
   "source": [
    "Start-Process powershell -ArgumentList '-NoLogo', '-Command', 'vagrant ssh ansible-node1'"
   ]
  },
  {
   "cell_type": "code",
   "execution_count": null,
   "id": "e95340c3-63f4-4668-a21f-13aef45da567",
   "metadata": {},
   "outputs": [],
   "source": [
    "Start-Process powershell -ArgumentList '-NoLogo', '-Command', 'vagrant ssh ansible-node2'"
   ]
  },
  {
   "cell_type": "code",
   "execution_count": null,
   "id": "c0f58bed-78eb-42bc-a33e-be61f7ae8fc9",
   "metadata": {},
   "outputs": [],
   "source": []
  }
 ],
 "metadata": {
  "kernelspec": {
   "display_name": "PowerShell 5",
   "language": "Powershell",
   "name": "powershell5"
  },
  "language_info": {
   "codemirror_mode": "powershell",
   "file_extension": "ps1",
   "mimetype": "application/x-powershell",
   "name": "powershell",
   "nbconvert_exporter": "script",
   "pygments_lexer": "powershell",
   "version": "5.1.0"
  }
 },
 "nbformat": 4,
 "nbformat_minor": 5
}

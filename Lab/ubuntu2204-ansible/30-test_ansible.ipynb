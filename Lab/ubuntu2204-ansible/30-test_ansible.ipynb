{
 "cells": [
  {
   "cell_type": "markdown",
   "id": "c102e2b6-c40b-4b71-bff2-936649086b1d",
   "metadata": {},
   "source": [
    "# 前処理"
   ]
  },
  {
   "cell_type": "markdown",
   "id": "ea1cba45-470d-474d-8e22-f5b1bb3ff75b",
   "metadata": {},
   "source": [
    "## インポート"
   ]
  },
  {
   "cell_type": "code",
   "execution_count": null,
   "id": "35f96e46-578d-4bd1-9a19-da0fc223c4d3",
   "metadata": {},
   "outputs": [],
   "source": [
    "from fabric import Connection, Config"
   ]
  },
  {
   "cell_type": "markdown",
   "id": "b9536f72-45b6-4ad0-871a-652662c8dc91",
   "metadata": {},
   "source": [
    "## 接続情報"
   ]
  },
  {
   "cell_type": "code",
   "execution_count": null,
   "id": "9169db6c-0e60-4ca5-b78d-f1b404ba62e6",
   "metadata": {},
   "outputs": [],
   "source": [
    "remote_host = '192.168.128.10'\n",
    "remote_user = 'vagrant'\n",
    "node_name   = 'ansible-ubuntu22'\n",
    "key_file    = f'.vagrant/machines/{node_name}/hyperv/private_key'"
   ]
  },
  {
   "cell_type": "markdown",
   "id": "307515a8-43fb-41b4-9b9d-ba652dbd95c3",
   "metadata": {},
   "source": [
    "## fabric設定"
   ]
  },
  {
   "cell_type": "code",
   "execution_count": null,
   "id": "a080fa4b-5bd4-49be-ae54-eea45d5d5ec3",
   "metadata": {},
   "outputs": [],
   "source": [
    "config = Config(overrides={\n",
    "    'run': {'env': {'LANG': 'C'},'echo': True,'warn': True,'pty': False,'hide': False,'timeout': 20},\n",
    "    'sudo': {'env': {'LANG': 'C'},'echo': True,'warn': True,'pty': True,'hide': False,'timeout': 20,'password': None},\n",
    "    'timeouts': {'connect': 5,'command': 30,},\n",
    "})"
   ]
  },
  {
   "cell_type": "markdown",
   "id": "f745aba2-ef90-4588-a67c-446decaaf6e7",
   "metadata": {},
   "source": [
    "## python 仮想環境用関数"
   ]
  },
  {
   "cell_type": "code",
   "execution_count": null,
   "id": "f679398e-5355-4a1c-9d85-0afbaf4d1624",
   "metadata": {},
   "outputs": [],
   "source": [
    "def run_py(c, cmd, venv=\"/opt/ansible-env/bin/activate\", use_sudo=False, **kwargs):\n",
    "    full_cmd = f\"bash -lc 'source {venv} && {cmd}'\"\n",
    "    if use_sudo:\n",
    "        return c.sudo(full_cmd, **kwargs)\n",
    "    else:\n",
    "        return c.run(full_cmd, **kwargs)\n"
   ]
  },
  {
   "cell_type": "markdown",
   "id": "4da91e8d-e52b-4e70-a1ae-9bc14706d04f",
   "metadata": {},
   "source": [
    "# 接続"
   ]
  },
  {
   "cell_type": "markdown",
   "id": "271b9d79-bdf7-40fa-bcb9-1131615d8d08",
   "metadata": {},
   "source": [
    "## SSH接続"
   ]
  },
  {
   "cell_type": "code",
   "execution_count": null,
   "id": "36f72be0-0ee1-4107-9840-01ee763c606f",
   "metadata": {
    "scrolled": true
   },
   "outputs": [],
   "source": [
    "c = Connection(\n",
    "    port=22,\n",
    "    host=remote_host,\n",
    "    user=remote_user,\n",
    "    connect_kwargs={\n",
    "        'key_filename': key_file,\n",
    "    },\n",
    "    config=config,\n",
    ")\n",
    "c.run('hostname;date;whoami')"
   ]
  },
  {
   "cell_type": "code",
   "execution_count": null,
   "id": "c0a16fdd-5851-43c9-be1f-2cbf95b1dcd7",
   "metadata": {},
   "outputs": [],
   "source": [
    "run_py(c,'ansible --version')"
   ]
  },
  {
   "cell_type": "markdown",
   "id": "811eabdc-53ac-4e5c-85be-0595a0a2c507",
   "metadata": {},
   "source": [
    "# 処理実行"
   ]
  },
  {
   "cell_type": "markdown",
   "id": "11ae3f9b-a4ab-4570-893d-04d3b5b0e1c2",
   "metadata": {},
   "source": [
    "## SSH接続確認"
   ]
  },
  {
   "cell_type": "code",
   "execution_count": null,
   "id": "b7401753-e414-46a8-875c-248493581823",
   "metadata": {},
   "outputs": [],
   "source": [
    "for node in [\"192.168.128.10\", \"192.168.128.11\", \"192.168.128.12\"]:\n",
    "    c.run(f\"ssh -o StrictHostKeyChecking=no vagrant@{node} 'hostname'\")"
   ]
  },
  {
   "cell_type": "markdown",
   "id": "bb469be8-b6a7-4e03-ad42-b7e1d2e5a64a",
   "metadata": {},
   "source": [
    "## hosts作成"
   ]
  },
  {
   "cell_type": "code",
   "execution_count": null,
   "id": "30d77273-01bf-48ef-9f80-726915e09467",
   "metadata": {},
   "outputs": [],
   "source": [
    "c.sudo('mkdir /etc/ansible')"
   ]
  },
  {
   "cell_type": "code",
   "execution_count": null,
   "id": "0e651727-48ef-4b3c-b30a-b41520cd80ba",
   "metadata": {},
   "outputs": [],
   "source": [
    "c.run('echo \"[ubuntu]\\n192.168.128.10 ansible_python_interpreter=/usr/bin/python3\\n192.168.128.11 ansible_python_interpreter=/usr/bin/python3\\n\\n[rocky]\\n192.168.128.12 ansible_python_interpreter=/usr/libexec/platform-python\" | sudo tee /etc/ansible/hosts')"
   ]
  },
  {
   "cell_type": "markdown",
   "id": "fa313d32-050d-48da-a982-d324391fb19c",
   "metadata": {},
   "source": [
    "## ansibleテスト"
   ]
  },
  {
   "cell_type": "code",
   "execution_count": null,
   "id": "9162e538-7dfa-40ee-85a8-7ca111ee94bb",
   "metadata": {},
   "outputs": [],
   "source": [
    "run_py(c,'ansible all -m ping')"
   ]
  },
  {
   "cell_type": "code",
   "execution_count": null,
   "id": "ca18b434-6d4f-46cd-857a-d7d9c8d243a8",
   "metadata": {},
   "outputs": [],
   "source": [
    "c.run('''echo \"---\n",
    "- hosts: all\n",
    "  become: true\n",
    "  tasks:\n",
    "    - name: Create test file\n",
    "      file:\n",
    "        path: /home/vagrant/ansible_test_file\n",
    "        state: touch\n",
    "\" > /home/vagrant/test.yml''')"
   ]
  },
  {
   "cell_type": "code",
   "execution_count": null,
   "id": "5d20d917-c0b6-4ef8-b7c7-90dcddff5a9d",
   "metadata": {},
   "outputs": [],
   "source": [
    "run_py(c,'ansible-playbook /home/vagrant/test.yml')"
   ]
  },
  {
   "cell_type": "code",
   "execution_count": null,
   "id": "4d03a166-16f4-426a-9bda-2472193c9b97",
   "metadata": {
    "scrolled": true
   },
   "outputs": [],
   "source": [
    "for node in [\"192.168.128.10\", \"192.168.128.11\", \"192.168.128.12\"]:\n",
    "    c.run(f\"ssh vagrant@{node} 'ls -l /home/vagrant/ansible_test_file'\")"
   ]
  },
  {
   "cell_type": "code",
   "execution_count": null,
   "id": "8e6b37e9-3c9c-487a-b8d8-66c5c8131b30",
   "metadata": {
    "scrolled": true
   },
   "outputs": [],
   "source": [
    "for node in [\"192.168.128.10\", \"192.168.128.11\", \"192.168.128.12\"]:\n",
    "    c.run(f\"ssh vagrant@{node} 'rm -f /home/vagrant/ansible_test_file'\")"
   ]
  },
  {
   "cell_type": "code",
   "execution_count": null,
   "id": "35383326-b467-4145-8c9a-ca703bdebcbd",
   "metadata": {},
   "outputs": [],
   "source": [
    "c.close()"
   ]
  },
  {
   "cell_type": "code",
   "execution_count": null,
   "id": "393c1f2a-a258-4936-be15-14ea1b8044e8",
   "metadata": {},
   "outputs": [],
   "source": []
  }
 ],
 "metadata": {
  "kernelspec": {
   "display_name": "Python 3 (ipykernel)",
   "language": "python",
   "name": "python3"
  },
  "language_info": {
   "codemirror_mode": {
    "name": "ipython",
    "version": 3
   },
   "file_extension": ".py",
   "mimetype": "text/x-python",
   "name": "python",
   "nbconvert_exporter": "python",
   "pygments_lexer": "ipython3",
   "version": "3.13.7"
  },
  "toc-autonumbering": true,
  "toc-showmarkdowntxt": false
 },
 "nbformat": 4,
 "nbformat_minor": 5
}

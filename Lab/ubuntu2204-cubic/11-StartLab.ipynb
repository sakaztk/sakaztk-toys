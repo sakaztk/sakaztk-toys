{
 "cells": [
  {
   "cell_type": "markdown",
   "id": "45dd332a-311b-4924-9b18-f7d8e7e2daf6",
   "metadata": {},
   "source": [
    "# vagrant up\n",
    "スイッチ選択の画面が出たら \"Default Switch\" の番号を入力してEnter"
   ]
  },
  {
   "cell_type": "code",
   "execution_count": 1,
   "id": "2d7f75dc-0fd0-4eb4-9208-d1649ecf1737",
   "metadata": {},
   "outputs": [
    {
     "name": "stdout",
     "output_type": "stream",
     "text": []
    }
   ],
   "source": [
    "Set-ExecutionPolicy Bypass -Scope Process\n",
    "Invoke-Expression -Command (Get-Content -Path .\\CommonVariable.psm1 -Raw)"
   ]
  },
  {
   "cell_type": "code",
   "execution_count": 3,
   "id": "069639d8-91dc-4c71-b686-e25da1f61818",
   "metadata": {},
   "outputs": [
    {
     "name": "stdout",
     "output_type": "stream",
     "text": []
    }
   ],
   "source": [
    "Start-Process powershell -ArgumentList '-NoLogo', '-NoExit', '-Command', 'vagrant up; vagrant reload'"
   ]
  },
  {
   "cell_type": "markdown",
   "id": "913c4ebb-ef3c-4fcc-89dd-7d47b9b6eb27",
   "metadata": {},
   "source": [
    "# SSH接続"
   ]
  },
  {
   "cell_type": "code",
   "execution_count": null,
   "id": "887141c3-153a-4967-896c-d40704ee9ef0",
   "metadata": {},
   "outputs": [],
   "source": [
    "Start-Process powershell -ArgumentList '-NoLogo', '-Command', 'vagrant ssh'"
   ]
  },
  {
   "cell_type": "code",
   "execution_count": null,
   "id": "d8804584-fdbb-4530-becd-41dbfabee184",
   "metadata": {},
   "outputs": [],
   "source": []
  }
 ],
 "metadata": {
  "kernelspec": {
   "display_name": "PowerShell 5",
   "language": "Powershell",
   "name": "powershell5"
  },
  "language_info": {
   "codemirror_mode": "powershell",
   "file_extension": "ps1",
   "mimetype": "application/x-powershell",
   "name": "powershell",
   "nbconvert_exporter": "script",
   "pygments_lexer": "powershell",
   "version": "5.1.0"
  }
 },
 "nbformat": 4,
 "nbformat_minor": 5
}

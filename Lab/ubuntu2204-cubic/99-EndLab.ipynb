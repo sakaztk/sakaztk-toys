{
 "cells": [
  {
   "cell_type": "code",
   "execution_count": null,
   "id": "fb8c8037-2303-40b5-9ef6-90d1998755b7",
   "metadata": {},
   "outputs": [],
   "source": [
    "vagrant halt"
   ]
  },
  {
   "cell_type": "code",
   "execution_count": null,
   "id": "2329cfc3-6cff-47e0-a462-62f36c1caca3",
   "metadata": {},
   "outputs": [],
   "source": [
    "vagrant destroy -f"
   ]
  },
  {
   "cell_type": "code",
   "execution_count": null,
   "id": "0220804a-1841-44ae-9a63-35c9f796ec0a",
   "metadata": {},
   "outputs": [],
   "source": []
  }
 ],
 "metadata": {
  "kernelspec": {
   "display_name": "PowerShell 5",
   "language": "Powershell",
   "name": "powershell5"
  },
  "language_info": {
   "codemirror_mode": "powershell",
   "file_extension": "ps1",
   "mimetype": "application/x-powershell",
   "name": "powershell",
   "nbconvert_exporter": "script",
   "pygments_lexer": "powershell",
   "version": "5.1.0"
  }
 },
 "nbformat": 4,
 "nbformat_minor": 5
}

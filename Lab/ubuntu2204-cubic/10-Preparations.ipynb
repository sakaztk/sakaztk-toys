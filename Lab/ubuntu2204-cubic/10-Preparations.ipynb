{
 "cells": [
  {
   "cell_type": "markdown",
   "id": "f6abf871-78c7-432b-9079-80c33516976f",
   "metadata": {},
   "source": [
    "# SMB共有用設定"
   ]
  },
  {
   "cell_type": "code",
   "execution_count": null,
   "id": "19a3a066-1e97-4b97-a954-75d53ec0498e",
   "metadata": {},
   "outputs": [],
   "source": [
    "Set-ExecutionPolicy Bypass -Scope Process\n",
    "Invoke-Expression -Command (Get-Content -Path .\\CommonVariable.psm1 -Raw)"
   ]
  },
  {
   "cell_type": "markdown",
   "id": "71430f53-85d4-4de5-8a80-6ed1ab226297",
   "metadata": {},
   "source": [
    "## SMB用ユーザー作成"
   ]
  },
  {
   "cell_type": "code",
   "execution_count": null,
   "id": "a5aa353a-263c-4f9f-866d-7997ce928494",
   "metadata": {},
   "outputs": [],
   "source": [
    "if(-not(Get-LocalUser -Name $userName)) {\n",
    "    New-LocalUser $userName -Password (ConvertTo-SecureString $passwd -AsPlainText -Force) -PasswordNeverExpires -AccountNeverExpires -Verbose\n",
    "}"
   ]
  },
  {
   "cell_type": "markdown",
   "id": "3b31606a-f9ab-4ba1-8e42-ec4ada645884",
   "metadata": {},
   "source": [
    "## アクセス権設定"
   ]
  },
  {
   "cell_type": "code",
   "execution_count": null,
   "id": "902ad49e-73dd-4a7d-b3bd-279e38a62af2",
   "metadata": {},
   "outputs": [],
   "source": [
    "$acl = Get-Acl $sharePath\n",
    "$accessRule = New-Object System.Security.AccessControl.FileSystemAccessRule($userName, \"Modify\", \"ContainerInherit,ObjectInherit\", \"None\", \"Allow\")\n",
    "$acl.SetAccessRule($accessRule)\n",
    "Set-Acl -Path $sharePath -AclObject $acl -Verbose"
   ]
  },
  {
   "cell_type": "code",
   "execution_count": null,
   "id": "1b03a960-6d93-453e-b718-f6656d2d18a7",
   "metadata": {},
   "outputs": [],
   "source": []
  }
 ],
 "metadata": {
  "kernelspec": {
   "display_name": "PowerShell 5",
   "language": "Powershell",
   "name": "powershell5"
  },
  "language_info": {
   "codemirror_mode": "powershell",
   "file_extension": "ps1",
   "mimetype": "application/x-powershell",
   "name": "powershell",
   "nbconvert_exporter": "script",
   "pygments_lexer": "powershell",
   "version": "5.1.0"
  }
 },
 "nbformat": 4,
 "nbformat_minor": 5
}

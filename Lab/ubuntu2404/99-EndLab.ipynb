{
 "cells": [
  {
   "cell_type": "markdown",
   "id": "ae3293f6-4edd-42ca-a4ce-6d4a5bc556b7",
   "metadata": {},
   "source": [
    "停止"
   ]
  },
  {
   "cell_type": "code",
   "execution_count": null,
   "id": "0c31cc49-1469-41b9-82a9-046b44ea729a",
   "metadata": {},
   "outputs": [],
   "source": [
    "vagrant halt"
   ]
  },
  {
   "cell_type": "markdown",
   "id": "2bb33f8e-c474-4e4d-834c-28a21060c275",
   "metadata": {},
   "source": [
    "終了"
   ]
  },
  {
   "cell_type": "code",
   "execution_count": null,
   "id": "2329cfc3-6cff-47e0-a462-62f36c1caca3",
   "metadata": {},
   "outputs": [],
   "source": [
    "vagrant destroy -f"
   ]
  },
  {
   "cell_type": "code",
   "execution_count": null,
   "id": "3e3fcc98-000d-4c84-9cb6-a5aecca4b7bd",
   "metadata": {},
   "outputs": [],
   "source": [
    "Remove-Item .\\.vagrant -Recurse -Force"
   ]
  },
  {
   "cell_type": "code",
   "execution_count": null,
   "id": "cf68d75d-ff65-4ac9-9b02-6d07f051e782",
   "metadata": {},
   "outputs": [],
   "source": []
  }
 ],
 "metadata": {
  "kernelspec": {
   "display_name": "PowerShell 5",
   "language": "Powershell",
   "name": "powershell5"
  },
  "language_info": {
   "codemirror_mode": "powershell",
   "file_extension": "ps1",
   "mimetype": "application/x-powershell",
   "name": "powershell",
   "nbconvert_exporter": "script",
   "pygments_lexer": "powershell",
   "version": "5.1.0"
  }
 },
 "nbformat": 4,
 "nbformat_minor": 5
}

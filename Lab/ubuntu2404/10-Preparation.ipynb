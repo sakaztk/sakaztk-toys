{
 "cells": [
  {
   "cell_type": "markdown",
   "id": "685054f7-1f9e-4478-b6c7-034ea5820ede",
   "metadata": {},
   "source": [
    "# 内部スイッチ作成"
   ]
  },
  {
   "cell_type": "markdown",
   "id": "bf5e9f14-0f3a-408e-a2bf-4d728a4b635c",
   "metadata": {},
   "source": [
    "## スイッチ名とIPアドレス\n",
    "内部通信用スイッチを作成してホスト側アダプターにIPアドレスを設定"
   ]
  },
  {
   "cell_type": "code",
   "execution_count": null,
   "id": "41ae69b4-bdb9-4b67-a5db-b35eef6294d2",
   "metadata": {},
   "outputs": [],
   "source": [
    "$switchName = 'InternalSwitch'\n",
    "$ipAddress = '192.168.128.250'\n",
    "$prefixLength = 24"
   ]
  },
  {
   "cell_type": "markdown",
   "id": "1147d634-d2bb-49d6-b238-e6a6878bfa9d",
   "metadata": {},
   "source": [
    "## スイッチ作成"
   ]
  },
  {
   "cell_type": "code",
   "execution_count": null,
   "id": "078557ed-6bb3-4d8f-add5-f37af23e28ba",
   "metadata": {},
   "outputs": [],
   "source": [
    "$switchName = 'InternalSwitch'\n",
    "$existing = Get-VMSwitch -SwitchType Internal | Where-Object {$_.Name -eq $switchName}\n",
    "if (-not($existing)) {\n",
    "    'Creating...'\n",
    "    New-VMSwitch -Name $switchName -SwitchType Internal -Verbose\n",
    "}\n",
    "else {\n",
    "    'Existing'\n",
    "    $existing\n",
    "}"
   ]
  },
  {
   "cell_type": "markdown",
   "id": "11f195b3-2377-4e38-a95f-5a309b3f4ba9",
   "metadata": {},
   "source": [
    "## IPアドレス設定"
   ]
  },
  {
   "cell_type": "code",
   "execution_count": null,
   "id": "90af7b05-3846-4fd4-a845-acc25dd8a2aa",
   "metadata": {},
   "outputs": [],
   "source": [
    "$adapterName = \"vEthernet ($switchName)\"\n",
    "$adapter = Get-NetAdapter -Name $adapterName -ErrorAction SilentlyContinue\n",
    "if ($adapter) {\n",
    "    Get-NetIPAddress -InterfaceAlias $adapterName -AddressFamily IPv4 -ErrorAction SilentlyContinue | `\n",
    "        Remove-NetIPAddress -Confirm:$false -ErrorAction SilentlyContinue -Verbose\n",
    "    New-NetIPAddress -InterfaceAlias $adapterName -IPAddress $ipAddress -PrefixLength $prefixLength -Verbose\n",
    "}"
   ]
  },
  {
   "cell_type": "markdown",
   "id": "ecf326d7-cea7-4e0b-b88d-f57ae971f5fb",
   "metadata": {},
   "source": [
    "# SMB共有用設定"
   ]
  },
  {
   "cell_type": "markdown",
   "id": "2a3a1fdc-7cfb-4921-86c0-cf33204b19d8",
   "metadata": {},
   "source": [
    "## SMB用ユーザー作成"
   ]
  },
  {
   "cell_type": "code",
   "execution_count": null,
   "id": "67b768ce-69e0-47e7-a592-4c819f0cb327",
   "metadata": {},
   "outputs": [],
   "source": [
    "if(-not(Get-LocalUser -Name vagrant)) {\n",
    "    New-LocalUser vagrant -Password (ConvertTo-SecureString vagrant -AsPlainText -Force) -PasswordNeverExpires -AccountNeverExpires -Verbose\n",
    "}"
   ]
  },
  {
   "cell_type": "markdown",
   "id": "005109bd-73a0-4a6a-a929-41834385a439",
   "metadata": {},
   "source": [
    "## アクセス権設定"
   ]
  },
  {
   "cell_type": "code",
   "execution_count": null,
   "id": "d6ae1699-fc87-413b-abb1-5e943250b63c",
   "metadata": {},
   "outputs": [],
   "source": [
    "$acl = Get-Acl '.'\n",
    "$accessRule = New-Object System.Security.AccessControl.FileSystemAccessRule('vagrant', 'FullControl', 'ContainerInherit,ObjectInherit', 'None', 'Allow')\n",
    "$acl.SetAccessRule($accessRule)\n",
    "Set-Acl -Path '.' -AclObject $acl -Verbose"
   ]
  },
  {
   "cell_type": "code",
   "execution_count": null,
   "id": "47846990-be0d-49c0-b409-eebbda4f09a8",
   "metadata": {},
   "outputs": [],
   "source": []
  }
 ],
 "metadata": {
  "kernelspec": {
   "display_name": "PowerShell 5",
   "language": "Powershell",
   "name": "powershell5"
  },
  "language_info": {
   "codemirror_mode": "powershell",
   "file_extension": "ps1",
   "mimetype": "application/x-powershell",
   "name": "powershell",
   "nbconvert_exporter": "script",
   "pygments_lexer": "powershell",
   "version": "5.1.0"
  }
 },
 "nbformat": 4,
 "nbformat_minor": 5
}

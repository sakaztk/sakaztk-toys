{
 "cells": [
  {
   "cell_type": "code",
   "execution_count": null,
   "id": "943b9327-2b6a-4134-934e-4b0b03796df2",
   "metadata": {},
   "outputs": [],
   "source": [
    "$vmName    = 'Test-Win11'\n",
    "$vhdPath   = \"$VMName.vhdx\"\n",
    "$tempISO   = 'autounattend.iso'\n",
    "$xmlFolder = 'autounattend'"
   ]
  },
  {
   "cell_type": "markdown",
   "id": "169bec86-148b-4c99-b59d-3030cfe96d3e",
   "metadata": {},
   "source": [
    "VM削除"
   ]
  },
  {
   "cell_type": "code",
   "execution_count": null,
   "id": "456cd802-a321-4a07-9dcd-61429c3d2a76",
   "metadata": {},
   "outputs": [],
   "source": [
    "if ($vm = Get-VM $vmName -ErrorAction SilentlyContinue) {\n",
    "    if ($vm.State -ne 'Off') { \n",
    "        Stop-VM -Name $vmName -Force -Verbose\n",
    "        while ((Get-VM $vmName).State -ne 'Off') {\n",
    "            Start-Sleep -Seconds 1\n",
    "        }\n",
    "    }\n",
    "    Remove-VM -Name $vmName -Force -Verbose\n",
    "}"
   ]
  },
  {
   "cell_type": "markdown",
   "id": "0f97d492-ee41-4faa-80c8-1cd51b2efc69",
   "metadata": {},
   "source": [
    "VHD削除"
   ]
  },
  {
   "cell_type": "code",
   "execution_count": null,
   "id": "21382492-01cb-42e5-a6d8-e40e3f23b7c1",
   "metadata": {},
   "outputs": [],
   "source": [
    "if (Test-Path $vhdPath) {\n",
    "    Remove-Item $vhdPath -Force -Verbose\n",
    "}"
   ]
  },
  {
   "cell_type": "markdown",
   "id": "16683268-e5c9-4766-8ac4-d82f0a40c16a",
   "metadata": {},
   "source": [
    "isoファイル削除"
   ]
  },
  {
   "cell_type": "code",
   "execution_count": null,
   "id": "a87c886d-fa39-465d-982b-a9b95e942f49",
   "metadata": {},
   "outputs": [],
   "source": [
    "if (Test-Path $tempISO) {\n",
    "    Remove-Item $tempISO -Force -Verbose\n",
    "}"
   ]
  },
  {
   "cell_type": "markdown",
   "id": "2ae6a4de-2ff3-4888-9c41-2efb4ac5b131",
   "metadata": {},
   "source": [
    "フォルダ削除"
   ]
  },
  {
   "cell_type": "code",
   "execution_count": null,
   "id": "9c5acfa2-ca46-49db-bd76-4763c4b02eb9",
   "metadata": {},
   "outputs": [],
   "source": [
    "if (Test-Path $xmlFolder) {\n",
    "    Remove-Item $xmlFolder -Recurse -Force -Verbose\n",
    "}"
   ]
  },
  {
   "cell_type": "code",
   "execution_count": null,
   "id": "cb165fb9-227b-4474-824b-aebc04df4c9f",
   "metadata": {},
   "outputs": [],
   "source": []
  }
 ],
 "metadata": {
  "kernelspec": {
   "display_name": "PowerShell 5",
   "language": "Powershell",
   "name": "powershell5"
  },
  "language_info": {
   "codemirror_mode": "powershell",
   "file_extension": "ps1",
   "mimetype": "application/x-powershell",
   "name": "powershell",
   "nbconvert_exporter": "script",
   "pygments_lexer": "powershell",
   "version": "5.1.0"
  }
 },
 "nbformat": 4,
 "nbformat_minor": 5
}

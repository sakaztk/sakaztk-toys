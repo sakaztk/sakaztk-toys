{
 "cells": [
  {
   "cell_type": "markdown",
   "id": "d860b3e3-f301-4c56-adf4-1356426c4107",
   "metadata": {},
   "source": [
    "Default Switch からVMに接続し InternalSwitch に固定IPアドレスを設定する"
   ]
  },
  {
   "cell_type": "markdown",
   "id": "2bdccce6-1417-422b-8a19-380cc3198479",
   "metadata": {},
   "source": [
    "# 定義"
   ]
  },
  {
   "cell_type": "code",
   "execution_count": null,
   "id": "67a51c96-729d-46ad-a60a-77f68a6ccadd",
   "metadata": {},
   "outputs": [],
   "source": [
    "$vmName           = 'Test-Win11'\n",
    "$internalSwitch   = 'InternalSwitch'\n",
    "$vmInternalIP     = '192.168.128.100'\n",
    "$internalSwitchIP = '192.168.128.254'\n",
    "$prefixLength     = 24\n",
    "$cred = New-Object System.Management.Automation.PSCredential (\n",
    "    'sakaztk',\n",
    "    (ConvertTo-SecureString -AsPlainText -Force -String 'Passw0rd!')\n",
    ")"
   ]
  },
  {
   "cell_type": "markdown",
   "id": "c22c5c09-f86b-40c9-b4e6-6d6be087ecd5",
   "metadata": {},
   "source": [
    "# 内部スイッチが無ければ作る"
   ]
  },
  {
   "cell_type": "code",
   "execution_count": null,
   "id": "4e920ccd-e8b8-4951-987e-a3f459a1f96c",
   "metadata": {
    "scrolled": true
   },
   "outputs": [],
   "source": [
    "if (Get-VMSwitch -Name $internalSwitch -ErrorAction SilentlyContinue) {'OK'}\n",
    "else {\n",
    "    New-VMSwitch -Name $internalSwitch -SwitchType Internal -Verbose\n",
    "    New-NetIPAddress -InterfaceAlias \"vEthernet ($internalSwitch)\" -IPAddress $internalSwitchIP -PrefixLength $prefixLength\n",
    "}"
   ]
  },
  {
   "cell_type": "markdown",
   "id": "1f3b9ba5-ed2a-41d6-b336-187163816762",
   "metadata": {},
   "source": [
    "# VMにスイッチを接続"
   ]
  },
  {
   "cell_type": "code",
   "execution_count": null,
   "id": "231fd3c2-480c-4829-a499-b4780ed56c74",
   "metadata": {},
   "outputs": [],
   "source": [
    "if (-not(Get-VMNetworkAdapter -VMName $vmName | Where-Object { $_.SwitchName -eq $internalSwitch })) {\n",
    "    Add-VMNetworkAdapter -VMName $vmName -SwitchName $internalSwitch -Verbose\n",
    "}\n",
    "Get-VMNetworkAdapter -VMName $vmName"
   ]
  },
  {
   "cell_type": "markdown",
   "id": "f1a8e2cd-aa9c-43c5-a97d-7612ff3c7007",
   "metadata": {},
   "source": [
    "# Default Switch のIPアドレスを取得してCimSessionを作成"
   ]
  },
  {
   "cell_type": "markdown",
   "id": "12fa18fd-19df-45f5-9218-90406d5b77e7",
   "metadata": {},
   "source": [
    "## IPアドレス取得"
   ]
  },
  {
   "cell_type": "code",
   "execution_count": null,
   "id": "54dfd801-75da-432e-9d90-c08b3954bc9d",
   "metadata": {},
   "outputs": [],
   "source": [
    "$dsIpAddress = (Get-VMNetworkAdapter -VMName $vmName | Where-Object {$_.SwitchName -eq 'Default Switch'}).IPAddresses |\n",
    "  Where-Object {($_ -match '^\\d{1,3}(\\.\\d{1,3}){3}$') -and ($_ -notlike '169.254*') -and ($_ -ne '0.0.0.0')}\n",
    "$dsIpAddress"
   ]
  },
  {
   "cell_type": "markdown",
   "id": "092b5ee3-7446-4b55-950b-8e2dddbd63e1",
   "metadata": {},
   "source": [
    "## WinRM設定"
   ]
  },
  {
   "cell_type": "code",
   "execution_count": null,
   "id": "6ee9cd00-aec1-4ce7-91da-711347545b56",
   "metadata": {
    "scrolled": true
   },
   "outputs": [],
   "source": [
    "$winrm = Get-Service WinRM\n",
    "if ($winrm.Status -eq 'Stopped' -and $winrm.StartType -eq 'Manual') {\n",
    "    winrm quickconfig -force\n",
    "} "
   ]
  },
  {
   "cell_type": "markdown",
   "id": "b43a4966-9e3d-469c-b6de-0968295762fc",
   "metadata": {},
   "source": [
    "## TrustedHosts設定"
   ]
  },
  {
   "cell_type": "code",
   "execution_count": null,
   "id": "55b5de4d-78f4-4b50-9737-b395b20a7a1f",
   "metadata": {},
   "outputs": [],
   "source": [
    "$current = (Get-Item WSMan:\\localhost\\Client\\TrustedHosts).Value\n",
    "$currentList = if ($current) { $current -split ',' | ForEach-Object { $_.Trim() } } else { @() }\n",
    "if ($currentList -notcontains $dsIpAddress -and $current -ne '*') {\n",
    "    $newValue = @($currentList) + @($dsIpAddress) -join ','\n",
    "    Set-Item WSMan:\\localhost\\Client\\TrustedHosts -Value $newValue -Force -Verbose\n",
    "}\n",
    "Get-Item WSMan:\\localhost\\Client\\TrustedHosts"
   ]
  },
  {
   "cell_type": "code",
   "execution_count": null,
   "id": "e7dc5cd1-f457-4bda-b456-0a91a03db369",
   "metadata": {},
   "outputs": [],
   "source": [
    "$cimSession = New-CimSession -ComputerName $dsIpAddress -Credential $cred -Verbose\n",
    "$cimSession"
   ]
  },
  {
   "cell_type": "markdown",
   "id": "1396cdf5-3e23-41e1-a1e1-75b5f103d909",
   "metadata": {},
   "source": [
    "# 固定IPアドレスを設定\n",
    "リンクローカルアドレスになっているものにIPアドレスを設定"
   ]
  },
  {
   "cell_type": "code",
   "execution_count": null,
   "id": "2feb6fec-e4d4-4371-a8c8-7daf796398ab",
   "metadata": {
    "scrolled": true
   },
   "outputs": [],
   "source": [
    "Get-NetIPAddress -CimSession $cimSession -AddressFamily IPv4 -IPAddress '169.254.*' |\n",
    "  New-NetIPAddress -IPAddress $vmInternalIP -PrefixLength $prefixLength -Verbose"
   ]
  },
  {
   "cell_type": "markdown",
   "id": "01918387-8be0-476d-9e04-1326ef0e1f1e",
   "metadata": {},
   "source": [
    "# ネットワークプロファイルをプライベートにする"
   ]
  },
  {
   "cell_type": "code",
   "execution_count": null,
   "id": "34ef2155-142b-4374-a2af-d0be38643c54",
   "metadata": {},
   "outputs": [],
   "source": [
    "Get-NetIPAddress -CimSession $cimSession -IPAddress $vmInternalIP |\n",
    "  Set-NetConnectionProfile -NetworkCategory Private -Verbose -PassThru"
   ]
  },
  {
   "cell_type": "markdown",
   "id": "6f442433-79a2-4eb1-859e-9a9ac7345e35",
   "metadata": {},
   "source": [
    "# 後処理"
   ]
  },
  {
   "cell_type": "code",
   "execution_count": null,
   "id": "bae57e5c-8ec7-4e6c-af06-5d7482afa426",
   "metadata": {},
   "outputs": [],
   "source": [
    "Remove-CimSession $cimSession"
   ]
  },
  {
   "cell_type": "markdown",
   "id": "ba192331-6245-4bf0-8ee0-ab057670e69e",
   "metadata": {},
   "source": [
    "## TrustedHosts削除"
   ]
  },
  {
   "cell_type": "code",
   "execution_count": null,
   "id": "47864113-af98-4e37-8594-d51e59f5c8ed",
   "metadata": {},
   "outputs": [],
   "source": [
    "$current = (Get-Item WSMan:\\localhost\\Client\\TrustedHosts).Value\n",
    "if ($current -and $current -ne '*' -and $current -ne '') {\n",
    "    $hostList = $current -split \",\" | ForEach-Object { $_.Trim() }\n",
    "    if ($hostList -contains $dsIpAddress) {\n",
    "        $updatedList = ($hostList | Where-Object { $_ -ne $dsIpAddress }) -join \",\"\n",
    "        Set-Item WSMan:\\localhost\\Client\\TrustedHosts -Value $updatedList -Force\n",
    "    }\n",
    "}\n",
    "Get-Item WSMan:\\localhost\\Client\\TrustedHosts"
   ]
  },
  {
   "cell_type": "code",
   "execution_count": null,
   "id": "f686f962-8393-4f86-a00d-de1b282f07ad",
   "metadata": {},
   "outputs": [],
   "source": []
  }
 ],
 "metadata": {
  "kernelspec": {
   "display_name": "PowerShell 5",
   "language": "Powershell",
   "name": "powershell5"
  },
  "language_info": {
   "codemirror_mode": "powershell",
   "file_extension": "ps1",
   "mimetype": "application/x-powershell",
   "name": "powershell",
   "nbconvert_exporter": "script",
   "pygments_lexer": "powershell",
   "version": "5.1.0"
  }
 },
 "nbformat": 4,
 "nbformat_minor": 5
}

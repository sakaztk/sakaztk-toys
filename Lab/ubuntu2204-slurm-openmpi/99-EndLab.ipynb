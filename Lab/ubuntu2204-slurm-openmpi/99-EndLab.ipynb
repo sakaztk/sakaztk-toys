{
 "cells": [
  {
   "cell_type": "markdown",
   "id": "6b0d44df-812b-4f94-97d6-f68aea525de6",
   "metadata": {},
   "source": [
    "シャットダウン"
   ]
  },
  {
   "cell_type": "code",
   "execution_count": null,
   "id": "d31764a3-b07d-4c61-ab59-2ea2c7f7ed56",
   "metadata": {},
   "outputs": [],
   "source": [
    "vagrant halt"
   ]
  },
  {
   "cell_type": "markdown",
   "id": "ff3e7a03-452f-412f-b246-35936938f9d3",
   "metadata": {},
   "source": [
    "削除"
   ]
  },
  {
   "cell_type": "code",
   "execution_count": null,
   "id": "2329cfc3-6cff-47e0-a462-62f36c1caca3",
   "metadata": {},
   "outputs": [],
   "source": [
    "vagrant destroy -f"
   ]
  },
  {
   "cell_type": "markdown",
   "id": "fc0c0e0f-2c1c-404c-b402-7157e0d91620",
   "metadata": {},
   "source": [
    "クリーンアップ"
   ]
  },
  {
   "cell_type": "code",
   "execution_count": null,
   "id": "442205db-a54c-4ab4-b01e-05521af276ef",
   "metadata": {},
   "outputs": [],
   "source": [
    "Remove-Item .\\munge.key -Force"
   ]
  },
  {
   "cell_type": "code",
   "execution_count": null,
   "id": "8271c5b0-dabd-4985-8184-3f644d17e8db",
   "metadata": {},
   "outputs": [],
   "source": [
    "remove-item .\\id_rsa.pub -Force"
   ]
  },
  {
   "cell_type": "code",
   "execution_count": null,
   "id": "7e4b568b-2ee6-4946-a85a-0ac047704f8a",
   "metadata": {},
   "outputs": [],
   "source": []
  }
 ],
 "metadata": {
  "kernelspec": {
   "display_name": "PowerShell 5",
   "language": "Powershell",
   "name": "powershell5"
  },
  "language_info": {
   "codemirror_mode": "powershell",
   "file_extension": "ps1",
   "mimetype": "application/x-powershell",
   "name": "powershell",
   "nbconvert_exporter": "script",
   "pygments_lexer": "powershell",
   "version": "5.1.0"
  }
 },
 "nbformat": 4,
 "nbformat_minor": 5
}

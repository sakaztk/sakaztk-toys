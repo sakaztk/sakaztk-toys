{
 "cells": [
  {
   "cell_type": "markdown",
   "id": "c102e2b6-c40b-4b71-bff2-936649086b1d",
   "metadata": {},
   "source": [
    "# 前処理"
   ]
  },
  {
   "cell_type": "markdown",
   "id": "ea1cba45-470d-474d-8e22-f5b1bb3ff75b",
   "metadata": {},
   "source": [
    "## インポート"
   ]
  },
  {
   "cell_type": "code",
   "execution_count": null,
   "id": "35f96e46-578d-4bd1-9a19-da0fc223c4d3",
   "metadata": {},
   "outputs": [],
   "source": [
    "from fabric import Connection, Config"
   ]
  },
  {
   "cell_type": "markdown",
   "id": "b9536f72-45b6-4ad0-871a-652662c8dc91",
   "metadata": {},
   "source": [
    "## 接続情報"
   ]
  },
  {
   "cell_type": "code",
   "execution_count": null,
   "id": "9169db6c-0e60-4ca5-b78d-f1b404ba62e6",
   "metadata": {},
   "outputs": [],
   "source": [
    "remote_host = '192.168.128.10'\n",
    "remote_user = 'vagrant'\n",
    "key_file    = '.vagrant/machines/slurm-master/hyperv/private_key'"
   ]
  },
  {
   "cell_type": "markdown",
   "id": "307515a8-43fb-41b4-9b9d-ba652dbd95c3",
   "metadata": {},
   "source": [
    "## fabric設定"
   ]
  },
  {
   "cell_type": "code",
   "execution_count": null,
   "id": "a080fa4b-5bd4-49be-ae54-eea45d5d5ec3",
   "metadata": {},
   "outputs": [],
   "source": [
    "config = Config(overrides={\n",
    "    'run': {'env': {'LANG': 'C'},'echo': True,'warn': True,'pty': False,'hide': False,'timeout': 20},\n",
    "    'sudo': {'env': {'LANG': 'C'},'echo': True,'warn': True,'pty': True,'hide': False,'timeout': 20,'password': None},\n",
    "    'timeouts': {'connect': 5,'command': 30,},\n",
    "})"
   ]
  },
  {
   "cell_type": "markdown",
   "id": "4da91e8d-e52b-4e70-a1ae-9bc14706d04f",
   "metadata": {},
   "source": [
    "# 接続"
   ]
  },
  {
   "cell_type": "markdown",
   "id": "271b9d79-bdf7-40fa-bcb9-1131615d8d08",
   "metadata": {},
   "source": [
    "## SSH接続"
   ]
  },
  {
   "cell_type": "code",
   "execution_count": null,
   "id": "36f72be0-0ee1-4107-9840-01ee763c606f",
   "metadata": {
    "scrolled": true
   },
   "outputs": [],
   "source": [
    "c = Connection(\n",
    "    port=22,\n",
    "    host=remote_host,\n",
    "    user=remote_user,\n",
    "    connect_kwargs={\n",
    "        'key_filename': key_file,\n",
    "    },\n",
    "    config=config,\n",
    ")\n",
    "c.run('hostname;date;whoami')"
   ]
  },
  {
   "cell_type": "markdown",
   "id": "811eabdc-53ac-4e5c-85be-0595a0a2c507",
   "metadata": {},
   "source": [
    "# 処理実行"
   ]
  },
  {
   "cell_type": "code",
   "execution_count": null,
   "id": "30296b71-5377-4f53-b5d5-b582477f8270",
   "metadata": {},
   "outputs": [],
   "source": [
    "c.run('ls -l hello')"
   ]
  },
  {
   "cell_type": "code",
   "execution_count": null,
   "id": "d9f958dd-b26b-4672-b675-8813a3d10fa8",
   "metadata": {},
   "outputs": [],
   "source": [
    "result = c.run(\"srun -N 3 -n 3 ~/hello\")"
   ]
  },
  {
   "cell_type": "code",
   "execution_count": null,
   "id": "35383326-b467-4145-8c9a-ca703bdebcbd",
   "metadata": {},
   "outputs": [],
   "source": [
    "c.close()"
   ]
  },
  {
   "cell_type": "code",
   "execution_count": null,
   "id": "393c1f2a-a258-4936-be15-14ea1b8044e8",
   "metadata": {},
   "outputs": [],
   "source": []
  }
 ],
 "metadata": {
  "kernelspec": {
   "display_name": "Python 3 (ipykernel)",
   "language": "python",
   "name": "python3"
  },
  "language_info": {
   "codemirror_mode": {
    "name": "ipython",
    "version": 3
   },
   "file_extension": ".py",
   "mimetype": "text/x-python",
   "name": "python",
   "nbconvert_exporter": "python",
   "pygments_lexer": "ipython3",
   "version": "3.13.3"
  },
  "toc-autonumbering": true,
  "toc-showmarkdowntxt": false
 },
 "nbformat": 4,
 "nbformat_minor": 5
}

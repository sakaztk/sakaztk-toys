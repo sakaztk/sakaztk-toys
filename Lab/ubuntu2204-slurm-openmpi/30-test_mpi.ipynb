{
 "cells": [
  {
   "cell_type": "markdown",
   "id": "c102e2b6-c40b-4b71-bff2-936649086b1d",
   "metadata": {},
   "source": [
    "# 前処理"
   ]
  },
  {
   "cell_type": "markdown",
   "id": "ea1cba45-470d-474d-8e22-f5b1bb3ff75b",
   "metadata": {},
   "source": [
    "## インポート"
   ]
  },
  {
   "cell_type": "code",
   "execution_count": null,
   "id": "35f96e46-578d-4bd1-9a19-da0fc223c4d3",
   "metadata": {},
   "outputs": [],
   "source": [
    "from fabric import Connection, Config"
   ]
  },
  {
   "cell_type": "markdown",
   "id": "b9536f72-45b6-4ad0-871a-652662c8dc91",
   "metadata": {},
   "source": [
    "## 接続情報\n",
    "IPアドレスはDefault Switchで割り当てられたDHCPアドレスを取得"
   ]
  },
  {
   "cell_type": "code",
   "execution_count": null,
   "id": "9169db6c-0e60-4ca5-b78d-f1b404ba62e6",
   "metadata": {},
   "outputs": [],
   "source": [
    "remote_host = '192.168.128.10'\n",
    "remote_user = 'vagrant'\n",
    "key_file    = '.vagrant/machines/slurm-master/hyperv/private_key'"
   ]
  },
  {
   "cell_type": "markdown",
   "id": "307515a8-43fb-41b4-9b9d-ba652dbd95c3",
   "metadata": {},
   "source": [
    "## fabric設定"
   ]
  },
  {
   "cell_type": "code",
   "execution_count": null,
   "id": "a080fa4b-5bd4-49be-ae54-eea45d5d5ec3",
   "metadata": {},
   "outputs": [],
   "source": [
    "config = Config(overrides={\n",
    "    'run': {'env': {'LANG': 'C'},'echo': True,'warn': True,'pty': False,'hide': False,'timeout': 20},\n",
    "    'sudo': {'env': {'LANG': 'C'},'echo': True,'warn': True,'pty': True,'hide': False,'timeout': 20,'password': None},\n",
    "    'timeouts': {'connect': 5,'command': 30,},\n",
    "})"
   ]
  },
  {
   "cell_type": "markdown",
   "id": "4da91e8d-e52b-4e70-a1ae-9bc14706d04f",
   "metadata": {},
   "source": [
    "# 接続"
   ]
  },
  {
   "cell_type": "markdown",
   "id": "271b9d79-bdf7-40fa-bcb9-1131615d8d08",
   "metadata": {},
   "source": [
    "## SSH接続"
   ]
  },
  {
   "cell_type": "code",
   "execution_count": null,
   "id": "36f72be0-0ee1-4107-9840-01ee763c606f",
   "metadata": {
    "scrolled": true
   },
   "outputs": [],
   "source": [
    "c = Connection(\n",
    "    port=22,\n",
    "    host=remote_host,\n",
    "    user=remote_user,\n",
    "    connect_kwargs={\n",
    "        'key_filename': key_file,\n",
    "    },\n",
    "    config=config,\n",
    ")\n",
    "c.run('hostname;date;whoami')"
   ]
  },
  {
   "cell_type": "code",
   "execution_count": null,
   "id": "c0a16fdd-5851-43c9-be1f-2cbf95b1dcd7",
   "metadata": {},
   "outputs": [],
   "source": [
    "c.run('mpicc --version')"
   ]
  },
  {
   "cell_type": "code",
   "execution_count": null,
   "id": "e1bf2bd1-bf5e-44f2-be56-5d9785ac2269",
   "metadata": {},
   "outputs": [],
   "source": [
    "c.run('mpirun --version')"
   ]
  },
  {
   "cell_type": "markdown",
   "id": "811eabdc-53ac-4e5c-85be-0595a0a2c507",
   "metadata": {},
   "source": [
    "# 処理実行"
   ]
  },
  {
   "cell_type": "code",
   "execution_count": null,
   "id": "0e651727-48ef-4b3c-b30a-b41520cd80ba",
   "metadata": {},
   "outputs": [],
   "source": [
    "c.run(\"echo 'slurm-master slots=1\\nslurm-node1 slots=1\\nslurm-node2 slots=1\\n' > ~/mpi-hosts\")"
   ]
  },
  {
   "cell_type": "code",
   "execution_count": null,
   "id": "b03cedf2-032d-41c3-8d75-238003352480",
   "metadata": {},
   "outputs": [],
   "source": [
    "nodes = [\"slurm-master\", \"slurm-node1\", \"slurm-node2\"]"
   ]
  },
  {
   "cell_type": "code",
   "execution_count": null,
   "id": "ca18b434-6d4f-46cd-857a-d7d9c8d243a8",
   "metadata": {},
   "outputs": [],
   "source": [
    "for node in nodes:\n",
    "    c.run(f\"ssh -o StrictHostKeyChecking=no vagrant@{node} 'hostname'\")"
   ]
  },
  {
   "cell_type": "code",
   "execution_count": null,
   "id": "5d20d917-c0b6-4ef8-b7c7-90dcddff5a9d",
   "metadata": {},
   "outputs": [],
   "source": [
    "hello_c = \"\"\"#include <mpi.h>\n",
    "#include <stdio.h>\n",
    "\n",
    "int main(int argc, char** argv) {\n",
    "    MPI_Init(NULL, NULL);\n",
    "    int world_size;\n",
    "    MPI_Comm_size(MPI_COMM_WORLD, &world_size);\n",
    "    int world_rank;\n",
    "    MPI_Comm_rank(MPI_COMM_WORLD, &world_rank);\n",
    "    char processor_name[MPI_MAX_PROCESSOR_NAME];\n",
    "    int name_len;\n",
    "    MPI_Get_processor_name(processor_name, &name_len);\n",
    "    printf(\"Hello from processor %s, rank %d out of %d processors\\\\n\",\n",
    "           processor_name, world_rank, world_size);\n",
    "    MPI_Finalize();\n",
    "    return 0;\n",
    "}\n",
    "\"\"\""
   ]
  },
  {
   "cell_type": "code",
   "execution_count": null,
   "id": "4d03a166-16f4-426a-9bda-2472193c9b97",
   "metadata": {
    "scrolled": true
   },
   "outputs": [],
   "source": [
    "for node in nodes:\n",
    "    c.run(f\"ssh vagrant@{node} 'cat > ~/hello.c <<EOF\\n{hello_c}\\nEOF'\")"
   ]
  },
  {
   "cell_type": "code",
   "execution_count": null,
   "id": "8e6b37e9-3c9c-487a-b8d8-66c5c8131b30",
   "metadata": {
    "scrolled": true
   },
   "outputs": [],
   "source": [
    "escaped = hello_c.replace('\\\\', '\\\\\\\\').replace('\"', '\\\\\"').replace('$', '\\\\$')\n",
    "for node in nodes:\n",
    "    c.run(f\"ssh vagrant@{node} 'echo \\\"{escaped}\\\" > ~/hello.c'\")"
   ]
  },
  {
   "cell_type": "code",
   "execution_count": null,
   "id": "ce27023c-0463-4192-908c-c8316c211d50",
   "metadata": {},
   "outputs": [],
   "source": [
    "for node in nodes:\n",
    "    c.run(f\"ssh vagrant@{node} 'mpicc ~/hello.c -o ~/hello'\")"
   ]
  },
  {
   "cell_type": "code",
   "execution_count": null,
   "id": "f527004d-fdd4-4d9b-828e-933415f7a99c",
   "metadata": {},
   "outputs": [],
   "source": [
    "result = c.run(\"mpirun -np 3 -hostfile ~/mpi-hosts ~/hello\", hide=True)\n",
    "print(result.stdout)"
   ]
  },
  {
   "cell_type": "code",
   "execution_count": null,
   "id": "35383326-b467-4145-8c9a-ca703bdebcbd",
   "metadata": {},
   "outputs": [],
   "source": [
    "c.close()"
   ]
  },
  {
   "cell_type": "code",
   "execution_count": null,
   "id": "393c1f2a-a258-4936-be15-14ea1b8044e8",
   "metadata": {},
   "outputs": [],
   "source": []
  }
 ],
 "metadata": {
  "kernelspec": {
   "display_name": "Python 3 (ipykernel)",
   "language": "python",
   "name": "python3"
  },
  "language_info": {
   "codemirror_mode": {
    "name": "ipython",
    "version": 3
   },
   "file_extension": ".py",
   "mimetype": "text/x-python",
   "name": "python",
   "nbconvert_exporter": "python",
   "pygments_lexer": "ipython3",
   "version": "3.13.3"
  },
  "toc-autonumbering": true,
  "toc-showmarkdowntxt": false
 },
 "nbformat": 4,
 "nbformat_minor": 5
}

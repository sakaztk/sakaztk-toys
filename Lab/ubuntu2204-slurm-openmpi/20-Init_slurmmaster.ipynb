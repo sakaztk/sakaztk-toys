{
 "cells": [
  {
   "cell_type": "markdown",
   "id": "e0fad2d5-ade5-4a07-81b5-d3b8ee599d56",
   "metadata": {},
   "source": [
    "Vagrantプロビジョニングで設定できない項目の初期設定"
   ]
  },
  {
   "cell_type": "markdown",
   "id": "c102e2b6-c40b-4b71-bff2-936649086b1d",
   "metadata": {},
   "source": [
    "# 前処理"
   ]
  },
  {
   "cell_type": "markdown",
   "id": "ea1cba45-470d-474d-8e22-f5b1bb3ff75b",
   "metadata": {},
   "source": [
    "## インポート"
   ]
  },
  {
   "cell_type": "code",
   "execution_count": null,
   "id": "35f96e46-578d-4bd1-9a19-da0fc223c4d3",
   "metadata": {},
   "outputs": [],
   "source": [
    "from fabric import Connection, Config\n",
    "import subprocess, re, time"
   ]
  },
  {
   "cell_type": "markdown",
   "id": "2de0979c-9a3d-4315-a514-e75767925248",
   "metadata": {},
   "source": [
    "## 関数 - ping応答待ち(Windows)"
   ]
  },
  {
   "cell_type": "code",
   "execution_count": null,
   "id": "4fadde7c-0429-47a1-83a4-115db4c57eb5",
   "metadata": {},
   "outputs": [],
   "source": [
    "def wait_ping(ip, timeout=60):\n",
    "    for _ in range(timeout):\n",
    "        if subprocess.run([\"ping\", \"-n\", \"1\", \"-w\", \"1000\", ip], stdout=subprocess.DEVNULL).returncode == 0:\n",
    "            print('OK')\n",
    "            return\n",
    "        time.sleep(1)\n",
    "    raise TimeoutError(f\"{ip} unreachable\")"
   ]
  },
  {
   "cell_type": "markdown",
   "id": "b9536f72-45b6-4ad0-871a-652662c8dc91",
   "metadata": {},
   "source": [
    "## 接続情報\n",
    "IPアドレスはDefault Switchで割り当てられたDHCPアドレスを取得"
   ]
  },
  {
   "cell_type": "code",
   "execution_count": null,
   "id": "4a9e3772-cc2a-4c70-8964-2c993112d2ce",
   "metadata": {},
   "outputs": [],
   "source": [
    "result = subprocess.run([\"vagrant\", \"ssh-config\", \"slurm-master\"], capture_output=True, text=True)\n",
    "match = re.search(r'^\\s*HostName\\s+(.+)$', result.stdout, re.MULTILINE)\n",
    "remote_host = match.group(1)\n",
    "print(remote_host)"
   ]
  },
  {
   "cell_type": "code",
   "execution_count": null,
   "id": "9169db6c-0e60-4ca5-b78d-f1b404ba62e6",
   "metadata": {},
   "outputs": [],
   "source": [
    "remote_user = 'vagrant'\n",
    "key_file    = '.vagrant/machines/slurm-master/hyperv/private_key'\n",
    "new_address = '192.168.128.10'"
   ]
  },
  {
   "cell_type": "markdown",
   "id": "307515a8-43fb-41b4-9b9d-ba652dbd95c3",
   "metadata": {},
   "source": [
    "## fabric設定"
   ]
  },
  {
   "cell_type": "code",
   "execution_count": null,
   "id": "a080fa4b-5bd4-49be-ae54-eea45d5d5ec3",
   "metadata": {},
   "outputs": [],
   "source": [
    "config = Config(overrides={\n",
    "    'run': {'env': {'LANG': 'C'},'echo': True,'warn': True,'pty': False,'hide': False,'timeout': 20},\n",
    "    'sudo': {'env': {'LANG': 'C'},'echo': True,'warn': True,'pty': True,'hide': False,'timeout': 20,'password': None},\n",
    "    'timeouts': {'connect': 5,'command': 30,},\n",
    "})"
   ]
  },
  {
   "cell_type": "markdown",
   "id": "4da91e8d-e52b-4e70-a1ae-9bc14706d04f",
   "metadata": {},
   "source": [
    "# 接続"
   ]
  },
  {
   "cell_type": "markdown",
   "id": "271b9d79-bdf7-40fa-bcb9-1131615d8d08",
   "metadata": {},
   "source": [
    "## SSH接続"
   ]
  },
  {
   "cell_type": "code",
   "execution_count": null,
   "id": "36f72be0-0ee1-4107-9840-01ee763c606f",
   "metadata": {
    "scrolled": true
   },
   "outputs": [],
   "source": [
    "c = Connection(\n",
    "    port=22,\n",
    "    host=remote_host,\n",
    "    user=remote_user,\n",
    "    connect_kwargs={\n",
    "        'key_filename': key_file,\n",
    "    },\n",
    "    config=config,\n",
    ")\n",
    "c.run('hostname;date;whoami')"
   ]
  },
  {
   "cell_type": "markdown",
   "id": "811eabdc-53ac-4e5c-85be-0595a0a2c507",
   "metadata": {},
   "source": [
    "# 処理実行"
   ]
  },
  {
   "cell_type": "markdown",
   "id": "5a1b7483-c2f5-488e-9664-42206410c4ce",
   "metadata": {},
   "source": [
    "## Hyper-V内部ネットワークのIPアドレス設定\n",
    "プロビジョニング完了のタイミングでNICを割り当てしているためこのタイミングで設定"
   ]
  },
  {
   "cell_type": "code",
   "execution_count": null,
   "id": "5f00a894-bfb2-4210-8b93-090c42611d5d",
   "metadata": {},
   "outputs": [],
   "source": [
    "c.run('ip a')"
   ]
  },
  {
   "cell_type": "code",
   "execution_count": null,
   "id": "0790f5f8-e4e4-4719-bd4a-4a5ba26d8d15",
   "metadata": {
    "scrolled": true,
    "tags": []
   },
   "outputs": [],
   "source": [
    "c.sudo(f\"\"\"bash -c 'cat > /etc/netplan/99-hyperv-internal.yaml <<EOF\n",
    "network:\n",
    "  version: 2\n",
    "  ethernets:\n",
    "    eth1:\n",
    "      dhcp4: false\n",
    "      addresses:\n",
    "        - {new_address}/24\n",
    "EOF\n",
    "'\"\"\")"
   ]
  },
  {
   "cell_type": "code",
   "execution_count": null,
   "id": "c5c21a15-4822-4b16-aafc-d686d209082f",
   "metadata": {
    "scrolled": true
   },
   "outputs": [],
   "source": [
    "c.sudo(\"netplan apply\", pty=False, warn=True, disown=True)"
   ]
  },
  {
   "cell_type": "code",
   "execution_count": null,
   "id": "683c907d-9940-4eca-88b7-560f7a8c6c79",
   "metadata": {},
   "outputs": [],
   "source": [
    "wait_ping(new_address)"
   ]
  },
  {
   "cell_type": "code",
   "execution_count": null,
   "id": "ee2dde35-68aa-4ade-b066-c4bfb3c28f8b",
   "metadata": {},
   "outputs": [],
   "source": [
    "c.close()\n",
    "c = Connection(\n",
    "    port=22,\n",
    "    host=new_address,\n",
    "    user=remote_user,\n",
    "    connect_kwargs={\n",
    "        'key_filename': key_file,\n",
    "    },\n",
    "    config=config,\n",
    ")\n",
    "c.run('hostname;date;whoami')"
   ]
  },
  {
   "cell_type": "code",
   "execution_count": null,
   "id": "7410f56b-5b6d-44e9-b043-ddddc898a507",
   "metadata": {},
   "outputs": [],
   "source": [
    "c.run('sudo ip a')"
   ]
  },
  {
   "cell_type": "markdown",
   "id": "c1efc1bc-1699-409e-8cca-047462dad46e",
   "metadata": {},
   "source": [
    "## munge.key ダウンロード\n",
    "各ノードへの配布用"
   ]
  },
  {
   "cell_type": "code",
   "execution_count": null,
   "id": "2fa3cecc-bec3-499e-87a1-148cd82d8eae",
   "metadata": {},
   "outputs": [],
   "source": [
    "c.sudo('cp /etc/munge/munge.key /home/vagrant/')"
   ]
  },
  {
   "cell_type": "code",
   "execution_count": null,
   "id": "6a74186d-081d-42c1-90ea-1c6b9b8dba15",
   "metadata": {},
   "outputs": [],
   "source": [
    "c.sudo('chmod 644 /home/vagrant/munge.key')"
   ]
  },
  {
   "cell_type": "code",
   "execution_count": null,
   "id": "934d51b6-ff23-46fe-88bd-7716f5d8910a",
   "metadata": {},
   "outputs": [],
   "source": [
    "c.run('ls -l /home/vagrant')"
   ]
  },
  {
   "cell_type": "code",
   "execution_count": null,
   "id": "c6adabd2-eef8-40bf-b9fb-48a983aa76f5",
   "metadata": {
    "scrolled": true
   },
   "outputs": [],
   "source": [
    "c.get('/home/vagrant/munge.key', 'munge.key')"
   ]
  },
  {
   "cell_type": "code",
   "execution_count": null,
   "id": "b80c86cc-0ecd-441a-ae44-ea39378c3e4e",
   "metadata": {},
   "outputs": [],
   "source": [
    "c.sudo('rm -f /home/vagrant/munge.key')"
   ]
  },
  {
   "cell_type": "markdown",
   "id": "fb6de678-d44b-41f1-88fa-3c082a97af6c",
   "metadata": {},
   "source": [
    "## SSH鍵作成、ダウンロード\n",
    "ノードへのSSH接続用"
   ]
  },
  {
   "cell_type": "code",
   "execution_count": null,
   "id": "3d792399-ba8d-47f9-943a-f611e5f52882",
   "metadata": {},
   "outputs": [],
   "source": [
    "c.run('ssh-keygen -t rsa -f ~/.ssh/id_rsa -q -N \"\"')"
   ]
  },
  {
   "cell_type": "code",
   "execution_count": null,
   "id": "10f70e27-d324-4d6a-9d0f-c99f25e2b3e5",
   "metadata": {},
   "outputs": [],
   "source": [
    "c.run('cat ~/.ssh/id_rsa.pub >> ~/.ssh/authorized_keys')"
   ]
  },
  {
   "cell_type": "code",
   "execution_count": null,
   "id": "78b036f9-e4cd-4cc1-9da5-6078d40f5356",
   "metadata": {},
   "outputs": [],
   "source": [
    "c.get(\".ssh/id_rsa.pub\", \"id_rsa.pub\")"
   ]
  },
  {
   "cell_type": "markdown",
   "id": "dc7e5d3b-675d-400e-a735-17cc9720db7b",
   "metadata": {},
   "source": [
    "# 切断"
   ]
  },
  {
   "cell_type": "code",
   "execution_count": null,
   "id": "35383326-b467-4145-8c9a-ca703bdebcbd",
   "metadata": {},
   "outputs": [],
   "source": [
    "c.close()"
   ]
  },
  {
   "cell_type": "code",
   "execution_count": null,
   "id": "393c1f2a-a258-4936-be15-14ea1b8044e8",
   "metadata": {},
   "outputs": [],
   "source": []
  }
 ],
 "metadata": {
  "kernelspec": {
   "display_name": "Python 3 (ipykernel)",
   "language": "python",
   "name": "python3"
  },
  "language_info": {
   "codemirror_mode": {
    "name": "ipython",
    "version": 3
   },
   "file_extension": ".py",
   "mimetype": "text/x-python",
   "name": "python",
   "nbconvert_exporter": "python",
   "pygments_lexer": "ipython3",
   "version": "3.13.3"
  },
  "toc-autonumbering": true,
  "toc-showmarkdowntxt": false
 },
 "nbformat": 4,
 "nbformat_minor": 5
}

{
 "cells": [
  {
   "cell_type": "markdown",
   "id": "e0fad2d5-ade5-4a07-81b5-d3b8ee599d56",
   "metadata": {},
   "source": [
    "Vagrantプロビジョニングで設定できない項目の初期設定"
   ]
  },
  {
   "cell_type": "markdown",
   "id": "c102e2b6-c40b-4b71-bff2-936649086b1d",
   "metadata": {},
   "source": [
    "# 前処理"
   ]
  },
  {
   "cell_type": "markdown",
   "id": "ea1cba45-470d-474d-8e22-f5b1bb3ff75b",
   "metadata": {},
   "source": [
    "## インポート"
   ]
  },
  {
   "cell_type": "code",
   "execution_count": null,
   "id": "35f96e46-578d-4bd1-9a19-da0fc223c4d3",
   "metadata": {},
   "outputs": [],
   "source": [
    "from fabric import Connection, Config\n",
    "import subprocess, re, time"
   ]
  },
  {
   "cell_type": "markdown",
   "id": "b762f694-4824-4900-a127-eb6aa1383c77",
   "metadata": {},
   "source": [
    "## 関数 - ping応答待ち(Windows)"
   ]
  },
  {
   "cell_type": "code",
   "execution_count": null,
   "id": "7ef4fb24-091a-4f2b-aa40-05b65f154755",
   "metadata": {},
   "outputs": [],
   "source": [
    "def wait_ping(ip, timeout=60):\n",
    "    for _ in range(timeout):\n",
    "        if subprocess.run([\"ping\", \"-n\", \"1\", \"-w\", \"1000\", ip], stdout=subprocess.DEVNULL).returncode == 0:\n",
    "            print('OK')\n",
    "            return\n",
    "        time.sleep(1)\n",
    "    raise TimeoutError(f\"{ip} unreachable\")"
   ]
  },
  {
   "cell_type": "markdown",
   "id": "b9536f72-45b6-4ad0-871a-652662c8dc91",
   "metadata": {},
   "source": [
    "## 接続情報\n",
    "IPアドレスはDefault Switchで割り当てられたDHCPアドレスを取得"
   ]
  },
  {
   "cell_type": "code",
   "execution_count": null,
   "id": "9169db6c-0e60-4ca5-b78d-f1b404ba62e6",
   "metadata": {},
   "outputs": [],
   "source": [
    "remote_user = 'vagrant'\n",
    "host_name   = 'slurm-node1'\n",
    "key_file    = f'.vagrant/machines/{host_name}/hyperv/private_key'\n",
    "new_address = '192.168.128.11'"
   ]
  },
  {
   "cell_type": "code",
   "execution_count": null,
   "id": "4a9e3772-cc2a-4c70-8964-2c993112d2ce",
   "metadata": {},
   "outputs": [],
   "source": [
    "result = subprocess.run([\"vagrant\", \"ssh-config\", host_name], capture_output=True, text=True)\n",
    "match = re.search(r'^\\s*HostName\\s+(.+)$', result.stdout, re.MULTILINE)\n",
    "remote_host = match.group(1)\n",
    "print(remote_host)"
   ]
  },
  {
   "cell_type": "markdown",
   "id": "307515a8-43fb-41b4-9b9d-ba652dbd95c3",
   "metadata": {},
   "source": [
    "## fabric設定"
   ]
  },
  {
   "cell_type": "code",
   "execution_count": null,
   "id": "a080fa4b-5bd4-49be-ae54-eea45d5d5ec3",
   "metadata": {},
   "outputs": [],
   "source": [
    "config = Config(overrides={\n",
    "    'run': {'env': {'LANG': 'C'},'echo': True,'warn': True,'pty': False,'hide': False,'timeout': 20},\n",
    "    'sudo': {'env': {'LANG': 'C'},'echo': True,'warn': True,'pty': True,'hide': False,'timeout': 20,'password': None},\n",
    "    'timeouts': {'connect': 5,'command': 30,},\n",
    "})"
   ]
  },
  {
   "cell_type": "markdown",
   "id": "4da91e8d-e52b-4e70-a1ae-9bc14706d04f",
   "metadata": {},
   "source": [
    "# 接続"
   ]
  },
  {
   "cell_type": "markdown",
   "id": "271b9d79-bdf7-40fa-bcb9-1131615d8d08",
   "metadata": {},
   "source": [
    "## SSH接続"
   ]
  },
  {
   "cell_type": "code",
   "execution_count": null,
   "id": "36f72be0-0ee1-4107-9840-01ee763c606f",
   "metadata": {
    "scrolled": true
   },
   "outputs": [],
   "source": [
    "c = Connection(\n",
    "    port=22,\n",
    "    host=remote_host,\n",
    "    user=remote_user,\n",
    "    connect_kwargs={\n",
    "        'key_filename': key_file,\n",
    "    },\n",
    "    config=config,\n",
    ")\n",
    "c.run('hostname;date;whoami')"
   ]
  },
  {
   "cell_type": "markdown",
   "id": "811eabdc-53ac-4e5c-85be-0595a0a2c507",
   "metadata": {},
   "source": [
    "# 処理実行"
   ]
  },
  {
   "cell_type": "markdown",
   "id": "5a1b7483-c2f5-488e-9664-42206410c4ce",
   "metadata": {},
   "source": [
    "## Hyper-V内部ネットワークのIPアドレス設定\n",
    "プロビジョニング完了のタイミングでNICを割り当てしているためこのタイミングで設定"
   ]
  },
  {
   "cell_type": "code",
   "execution_count": null,
   "id": "5953d312-ea1a-4340-b96d-3cbd0d92bf4e",
   "metadata": {},
   "outputs": [],
   "source": [
    "c.run('sudo ip a')"
   ]
  },
  {
   "cell_type": "code",
   "execution_count": null,
   "id": "0790f5f8-e4e4-4719-bd4a-4a5ba26d8d15",
   "metadata": {
    "scrolled": true,
    "tags": []
   },
   "outputs": [],
   "source": [
    "c.sudo(f\"\"\"bash -c 'cat > /etc/netplan/99-hyperv-internal.yaml <<EOF\n",
    "network:\n",
    "  version: 2\n",
    "  ethernets:\n",
    "    eth1:\n",
    "      dhcp4: false\n",
    "      addresses:\n",
    "        - {new_address}/24\n",
    "EOF\n",
    "'\"\"\")"
   ]
  },
  {
   "cell_type": "code",
   "execution_count": null,
   "id": "760a5689-8964-4a5c-be28-cc5e804baca0",
   "metadata": {
    "scrolled": true
   },
   "outputs": [],
   "source": [
    "c.sudo(\"netplan apply\", pty=False, warn=True, disown=True)"
   ]
  },
  {
   "cell_type": "code",
   "execution_count": null,
   "id": "77e7a39a-2b4f-45c9-b4f9-0f7e47ec072c",
   "metadata": {},
   "outputs": [],
   "source": [
    "wait_ping(new_address)"
   ]
  },
  {
   "cell_type": "code",
   "execution_count": null,
   "id": "905705c8-355c-405c-ac02-2050ba88bd11",
   "metadata": {},
   "outputs": [],
   "source": [
    "c.close()\n",
    "c = Connection(\n",
    "    port=22,\n",
    "    host=new_address,\n",
    "    user=remote_user,\n",
    "    connect_kwargs={\n",
    "        'key_filename': key_file,\n",
    "    },\n",
    "    config=config,\n",
    ")\n",
    "c.run('hostname;date;whoami')"
   ]
  },
  {
   "cell_type": "code",
   "execution_count": null,
   "id": "7410f56b-5b6d-44e9-b043-ddddc898a507",
   "metadata": {},
   "outputs": [],
   "source": [
    "c.run('sudo ip a')"
   ]
  },
  {
   "cell_type": "markdown",
   "id": "0d158e24-3446-4bfe-9a24-d44c52a35783",
   "metadata": {},
   "source": [
    "## munge.key"
   ]
  },
  {
   "cell_type": "code",
   "execution_count": null,
   "id": "c1ecebd7-04be-443b-bcf6-6abb1c6c2ff7",
   "metadata": {},
   "outputs": [],
   "source": [
    "c.put('munge.key', '/home/vagrant/munge.key')"
   ]
  },
  {
   "cell_type": "code",
   "execution_count": null,
   "id": "cb379bdb-a3b4-4e4a-800f-4527d70e49a2",
   "metadata": {},
   "outputs": [],
   "source": [
    "c.sudo('cp /home/vagrant/munge.key /etc/munge/munge.key')"
   ]
  },
  {
   "cell_type": "code",
   "execution_count": null,
   "id": "6d38d05c-cef1-4f14-87b8-b5cab4301508",
   "metadata": {},
   "outputs": [],
   "source": [
    "c.sudo('chown munge:munge /etc/munge/munge.key')"
   ]
  },
  {
   "cell_type": "code",
   "execution_count": null,
   "id": "f746a786-2476-4376-a4bf-73318d24aa4e",
   "metadata": {},
   "outputs": [],
   "source": [
    "c.sudo('chmod 400 /etc/munge/munge.key')"
   ]
  },
  {
   "cell_type": "code",
   "execution_count": null,
   "id": "3e1db8ac-f9f2-446b-8501-14eb5f9037d7",
   "metadata": {
    "scrolled": true
   },
   "outputs": [],
   "source": [
    "c.sudo('systemctl enable --now munge')"
   ]
  },
  {
   "cell_type": "code",
   "execution_count": null,
   "id": "8e089a54-c410-498e-abe0-c3f295896952",
   "metadata": {},
   "outputs": [],
   "source": [
    "c.sudo('systemctl status munge --no-pager')"
   ]
  },
  {
   "cell_type": "markdown",
   "id": "6f771a68-3ca1-4f8c-b341-165ec1258263",
   "metadata": {},
   "source": [
    "## slurm-masterのSSH鍵を登録"
   ]
  },
  {
   "cell_type": "code",
   "execution_count": null,
   "id": "47166269-61ec-4f0e-8418-7f2fa38c8f06",
   "metadata": {},
   "outputs": [],
   "source": [
    "pubkey = open(\"id_rsa.pub\").read().strip()"
   ]
  },
  {
   "cell_type": "code",
   "execution_count": null,
   "id": "afcf23fc-f23e-4ab0-bb57-1b812990fab7",
   "metadata": {},
   "outputs": [],
   "source": [
    "c.run(f'echo \"{pubkey}\" >> ~/.ssh/authorized_keys')"
   ]
  },
  {
   "cell_type": "markdown",
   "id": "dc7e5d3b-675d-400e-a735-17cc9720db7b",
   "metadata": {},
   "source": [
    "# 切断"
   ]
  },
  {
   "cell_type": "code",
   "execution_count": null,
   "id": "35383326-b467-4145-8c9a-ca703bdebcbd",
   "metadata": {},
   "outputs": [],
   "source": [
    "c.close()"
   ]
  },
  {
   "cell_type": "code",
   "execution_count": null,
   "id": "393c1f2a-a258-4936-be15-14ea1b8044e8",
   "metadata": {},
   "outputs": [],
   "source": []
  }
 ],
 "metadata": {
  "kernelspec": {
   "display_name": "Python 3 (ipykernel)",
   "language": "python",
   "name": "python3"
  },
  "language_info": {
   "codemirror_mode": {
    "name": "ipython",
    "version": 3
   },
   "file_extension": ".py",
   "mimetype": "text/x-python",
   "name": "python",
   "nbconvert_exporter": "python",
   "pygments_lexer": "ipython3",
   "version": "3.13.3"
  },
  "toc-autonumbering": true,
  "toc-showmarkdowntxt": false
 },
 "nbformat": 4,
 "nbformat_minor": 5
}

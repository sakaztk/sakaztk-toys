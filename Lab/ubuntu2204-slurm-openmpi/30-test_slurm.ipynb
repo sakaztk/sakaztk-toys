{
 "cells": [
  {
   "cell_type": "markdown",
   "id": "c102e2b6-c40b-4b71-bff2-936649086b1d",
   "metadata": {},
   "source": [
    "# 前処理"
   ]
  },
  {
   "cell_type": "markdown",
   "id": "ea1cba45-470d-474d-8e22-f5b1bb3ff75b",
   "metadata": {},
   "source": [
    "## インポート"
   ]
  },
  {
   "cell_type": "code",
   "execution_count": null,
   "id": "35f96e46-578d-4bd1-9a19-da0fc223c4d3",
   "metadata": {},
   "outputs": [],
   "source": [
    "from fabric import Connection, Config"
   ]
  },
  {
   "cell_type": "markdown",
   "id": "b9536f72-45b6-4ad0-871a-652662c8dc91",
   "metadata": {},
   "source": [
    "## 接続情報\n",
    "IPアドレスはDefault Switchで割り当てられたDHCPアドレスを取得"
   ]
  },
  {
   "cell_type": "code",
   "execution_count": null,
   "id": "9169db6c-0e60-4ca5-b78d-f1b404ba62e6",
   "metadata": {},
   "outputs": [],
   "source": [
    "remote_host = '192.168.128.10'\n",
    "remote_user = 'vagrant'\n",
    "key_file    = '.vagrant/machines/slurm-master/hyperv/private_key'"
   ]
  },
  {
   "cell_type": "markdown",
   "id": "307515a8-43fb-41b4-9b9d-ba652dbd95c3",
   "metadata": {},
   "source": [
    "## fabric設定"
   ]
  },
  {
   "cell_type": "code",
   "execution_count": null,
   "id": "a080fa4b-5bd4-49be-ae54-eea45d5d5ec3",
   "metadata": {},
   "outputs": [],
   "source": [
    "config = Config(overrides={\n",
    "    'run': {'env': {'LANG': 'C'},'echo': True,'warn': True,'pty': False,'hide': False,'timeout': 20},\n",
    "    'sudo': {'env': {'LANG': 'C'},'echo': True,'warn': True,'pty': True,'hide': False,'timeout': 20,'password': None},\n",
    "    'timeouts': {'connect': 5,'command': 30,},\n",
    "})"
   ]
  },
  {
   "cell_type": "markdown",
   "id": "4da91e8d-e52b-4e70-a1ae-9bc14706d04f",
   "metadata": {},
   "source": [
    "# 接続"
   ]
  },
  {
   "cell_type": "markdown",
   "id": "271b9d79-bdf7-40fa-bcb9-1131615d8d08",
   "metadata": {},
   "source": [
    "## SSH接続"
   ]
  },
  {
   "cell_type": "code",
   "execution_count": null,
   "id": "36f72be0-0ee1-4107-9840-01ee763c606f",
   "metadata": {
    "scrolled": true
   },
   "outputs": [],
   "source": [
    "c = Connection(\n",
    "    port=22,\n",
    "    host=remote_host,\n",
    "    user=remote_user,\n",
    "    connect_kwargs={\n",
    "        'key_filename': key_file,\n",
    "    },\n",
    "    config=config,\n",
    ")\n",
    "c.run('hostname;date;whoami')"
   ]
  },
  {
   "cell_type": "code",
   "execution_count": null,
   "id": "5e8b9d35-70c2-41b7-9607-669f9ea0e0e0",
   "metadata": {},
   "outputs": [],
   "source": [
    "c.run('sinfo --version')"
   ]
  },
  {
   "cell_type": "markdown",
   "id": "811eabdc-53ac-4e5c-85be-0595a0a2c507",
   "metadata": {},
   "source": [
    "# 処理実行"
   ]
  },
  {
   "cell_type": "code",
   "execution_count": null,
   "id": "34e6ff42-e333-47b2-abab-8dc6153c77e0",
   "metadata": {},
   "outputs": [],
   "source": [
    "for node in [\"slurm-master\", \"slurm-node1\", \"slurm-node2\"]:\n",
    "    c.run(f\"ssh -o StrictHostKeyChecking=no vagrant@{node} 'hostname'\")"
   ]
  },
  {
   "cell_type": "code",
   "execution_count": null,
   "id": "5d20d917-c0b6-4ef8-b7c7-90dcddff5a9d",
   "metadata": {},
   "outputs": [],
   "source": [
    "c.run('sinfo')"
   ]
  },
  {
   "cell_type": "markdown",
   "id": "5a1b7483-c2f5-488e-9664-42206410c4ce",
   "metadata": {},
   "source": [
    "## 各サービスの再起動\n",
    "ノードが認識されていないなど問題がある場合は各ノードのサービスを再起動する"
   ]
  },
  {
   "cell_type": "code",
   "execution_count": null,
   "id": "2794727b-a94c-4067-a18e-a8dd99e9754a",
   "metadata": {},
   "outputs": [],
   "source": [
    "c.run('sudo systemctl restart munge')"
   ]
  },
  {
   "cell_type": "code",
   "execution_count": null,
   "id": "d516d711-3aee-4de0-8cb6-524620e75a8f",
   "metadata": {},
   "outputs": [],
   "source": [
    "c.run('ssh vagrant@slurm-node1 \"sudo systemctl restart munge\"')"
   ]
  },
  {
   "cell_type": "code",
   "execution_count": null,
   "id": "873516bb-f564-4341-9d59-64838de93620",
   "metadata": {},
   "outputs": [],
   "source": [
    "c.run('ssh vagrant@slurm-node2 \"sudo systemctl restart munge\"')"
   ]
  },
  {
   "cell_type": "code",
   "execution_count": null,
   "id": "6072cd3a-e6ca-4c6a-b8be-1f58244759ae",
   "metadata": {},
   "outputs": [],
   "source": [
    "c.run('sudo systemctl restart slurmctld')"
   ]
  },
  {
   "cell_type": "code",
   "execution_count": null,
   "id": "e4281f81-886a-494a-bab8-6106484d76e6",
   "metadata": {},
   "outputs": [],
   "source": [
    "c.run('sudo systemctl restart slurmd')"
   ]
  },
  {
   "cell_type": "code",
   "execution_count": null,
   "id": "069e5afb-2b5a-45d8-b5ac-92078d8ae48f",
   "metadata": {},
   "outputs": [],
   "source": [
    "c.run('ssh vagrant@slurm-node1 \"sudo systemctl restart slurmd\"')"
   ]
  },
  {
   "cell_type": "code",
   "execution_count": null,
   "id": "32f7ca75-3fb3-4fd1-a7ae-42ef97a9dfc7",
   "metadata": {},
   "outputs": [],
   "source": [
    "c.run('ssh vagrant@slurm-node2 \"sudo systemctl restart slurmd\"')"
   ]
  },
  {
   "cell_type": "markdown",
   "id": "190c311b-6277-4a77-abda-3e18db60c6ac",
   "metadata": {},
   "source": [
    "## テスト"
   ]
  },
  {
   "cell_type": "code",
   "execution_count": null,
   "id": "5f00a894-bfb2-4210-8b93-090c42611d5d",
   "metadata": {},
   "outputs": [],
   "source": [
    "c.run('sinfo')"
   ]
  },
  {
   "cell_type": "code",
   "execution_count": null,
   "id": "0483b1dd-002f-4737-89dc-0c09b2d4c3cd",
   "metadata": {},
   "outputs": [],
   "source": [
    "c.run('sinfo -Nl')"
   ]
  },
  {
   "cell_type": "code",
   "execution_count": null,
   "id": "0790f5f8-e4e4-4719-bd4a-4a5ba26d8d15",
   "metadata": {
    "scrolled": true,
    "tags": []
   },
   "outputs": [],
   "source": [
    "c.run('srun hostname')"
   ]
  },
  {
   "cell_type": "code",
   "execution_count": null,
   "id": "760a5689-8964-4a5c-be28-cc5e804baca0",
   "metadata": {
    "scrolled": true
   },
   "outputs": [],
   "source": [
    "c.sudo('srun -N 3 hostname')"
   ]
  },
  {
   "cell_type": "code",
   "execution_count": null,
   "id": "7410f56b-5b6d-44e9-b043-ddddc898a507",
   "metadata": {},
   "outputs": [],
   "source": [
    "c.run('sbatch --wrap=\"hostname\"')"
   ]
  },
  {
   "cell_type": "code",
   "execution_count": null,
   "id": "1934a4a8-90e6-4101-9bc4-5d5b9b530c1c",
   "metadata": {},
   "outputs": [],
   "source": [
    "c.run('squeue')"
   ]
  },
  {
   "cell_type": "code",
   "execution_count": null,
   "id": "bdac654e-cdf6-404c-97b0-002338de1806",
   "metadata": {},
   "outputs": [],
   "source": [
    "c.run('ls -l')"
   ]
  },
  {
   "cell_type": "code",
   "execution_count": null,
   "id": "8aa69430-bf6d-4a8b-839f-fbcee6266993",
   "metadata": {},
   "outputs": [],
   "source": [
    "c.run('cat slurm-*.out')"
   ]
  },
  {
   "cell_type": "code",
   "execution_count": null,
   "id": "35383326-b467-4145-8c9a-ca703bdebcbd",
   "metadata": {},
   "outputs": [],
   "source": [
    "c.close()"
   ]
  },
  {
   "cell_type": "code",
   "execution_count": null,
   "id": "393c1f2a-a258-4936-be15-14ea1b8044e8",
   "metadata": {},
   "outputs": [],
   "source": []
  }
 ],
 "metadata": {
  "kernelspec": {
   "display_name": "Python 3 (ipykernel)",
   "language": "python",
   "name": "python3"
  },
  "language_info": {
   "codemirror_mode": {
    "name": "ipython",
    "version": 3
   },
   "file_extension": ".py",
   "mimetype": "text/x-python",
   "name": "python",
   "nbconvert_exporter": "python",
   "pygments_lexer": "ipython3",
   "version": "3.13.3"
  },
  "toc-autonumbering": true,
  "toc-showmarkdowntxt": false
 },
 "nbformat": 4,
 "nbformat_minor": 5
}

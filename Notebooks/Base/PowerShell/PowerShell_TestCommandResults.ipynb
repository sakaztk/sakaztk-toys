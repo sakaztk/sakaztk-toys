{
 "cells": [
  {
   "cell_type": "markdown",
   "metadata": {
    "lc_cell_meme": {
     "current": "0bcedaa6-d006-11eb-9b07-0cdd241726b2",
     "next": "0bcedaa7-d006-11eb-a44a-0cdd241726b2",
     "previous": null
    }
   },
   "source": [
    "<p style = \"font-weight:bold; font-size:200%\">PowerShell コマンド結果一括確認</p>"
   ]
  },
  {
   "cell_type": "code",
   "execution_count": null,
   "metadata": {},
   "outputs": [],
   "source": [
    "$ErrorActionPreference = 'Continue'"
   ]
  },
  {
   "cell_type": "markdown",
   "metadata": {},
   "source": [
    "# 確認"
   ]
  },
  {
   "cell_type": "markdown",
   "metadata": {},
   "source": [
    "## 定義"
   ]
  },
  {
   "cell_type": "code",
   "execution_count": null,
   "metadata": {},
   "outputs": [],
   "source": [
    "$definition = @(\n",
    "    @{\n",
    "        Name = 'Display Hostname'\n",
    "        Command = 'hostname'\n",
    "    }\n",
    "    @{\n",
    "        Name = 'Ping Loopback'\n",
    "        Command = 'Test-Connection 127.0.0.1 -Quiet'\n",
    "        Expect = $true\n",
    "    }\n",
    ")"
   ]
  },
  {
   "cell_type": "markdown",
   "metadata": {},
   "source": [
    "## チェック"
   ]
  },
  {
   "cell_type": "code",
   "execution_count": null,
   "metadata": {},
   "outputs": [],
   "source": [
    "$i = 1\n",
    "$ngCount = 0; $errCount = 0\n",
    "$definition | ForEach-Object {    \n",
    "    $return = (Invoke-Expression $_.Command) 2>&1\n",
    "    if ($return.Exception)\n",
    "    {\n",
    "        #throw $return.Exception\n",
    "        $result = 'Error'\n",
    "        $errCount ++\n",
    "    }\n",
    "    elseif (($null -eq $_.Expect) -or ( '-' -eq $_.Expect)) {\n",
    "        $_.Expect = '-'\n",
    "        $result = '-'\n",
    "    }\n",
    "    else {\n",
    "        if ($null -eq $return ) {\n",
    "            $result = 'NULL'\n",
    "        }\n",
    "        elseif ($return -match $_.Expect) {\n",
    "            $result = 'OK'\n",
    "        }\n",
    "        elseif ($_.Expect -is [Array]) {\n",
    "            if (Compare-Object [Array]$return $_.Expect) {\n",
    "                $result = 'OK'\n",
    "            }\n",
    "        }\n",
    "        else {\n",
    "            $result = 'NG'\n",
    "            $ngCount ++\n",
    "        }\n",
    "    }\n",
    "    New-Object -TypeName PSObject -Property @{\n",
    "        No = $i\n",
    "        Name = $_.Name\n",
    "        Command = $_.command\n",
    "        Expect = $_.Expect\n",
    "        Return = $return\n",
    "        Result = $result\n",
    "    }\n",
    "    $i++\n",
    "} | Format-Table No, Name, Expect, Return, Result -AutoSize\n",
    "Write-Output \"NG:$ngCount, Error:$errCount\""
   ]
  },
  {
   "cell_type": "code",
   "execution_count": null,
   "metadata": {},
   "outputs": [],
   "source": []
  }
 ],
 "metadata": {
  "kernelspec": {
   "display_name": "PowerShell 5",
   "language": "Powershell",
   "name": "powershell5"
  },
  "language_info": {
   "codemirror_mode": "powershell",
   "file_extension": "ps1",
   "mimetype": "application/x-powershell",
   "name": "powershell",
   "nbconvert_exporter": "script",
   "pygments_lexer": "powershell",
   "version": "5.1.0"
  },
  "lc_notebook_meme": {
   "current": "c48e8849-cff2-11eb-a674-0cdd241726b2",
   "lc_server_signature": {
    "current": {
     "notebook_dir": "c:\\Notebooks",
     "notebook_path": "/HP-iLo/Powershell",
     "server_url": "http://localhost:8888/",
     "signature_id": "1e33ea8c-56e4-11eb-bd85-0cdd241726b2"
    },
    "history": []
   }
  },
  "toc": {
   "base_numbering": 1,
   "nav_menu": {},
   "number_sections": true,
   "sideBar": true,
   "skip_h1_title": false,
   "title_cell": "Table of Contents",
   "title_sidebar": "Contents",
   "toc_cell": false,
   "toc_position": {
    "height": "calc(100% - 180px)",
    "left": "10px",
    "top": "150px",
    "width": "384px"
   },
   "toc_section_display": true,
   "toc_window_display": false
  },
  "toc-autonumbering": true
 },
 "nbformat": 4,
 "nbformat_minor": 4
}

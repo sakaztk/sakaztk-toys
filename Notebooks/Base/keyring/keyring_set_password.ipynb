{
 "cells": [
  {
   "cell_type": "markdown",
   "id": "be6ec99a-f8ad-42a3-a787-a00024186a6a",
   "metadata": {},
   "source": [
    "https://pypi.org/project/keyring/"
   ]
  },
  {
   "cell_type": "code",
   "execution_count": null,
   "id": "31f17b33-91ce-4904-9e23-f282a79b7129",
   "metadata": {},
   "outputs": [],
   "source": [
    "import keyring"
   ]
  },
  {
   "cell_type": "markdown",
   "id": "53c60d91-28b6-4a10-8d5a-c4ab77941b75",
   "metadata": {},
   "source": [
    "Windowsでは資格情報マネージャーの汎用資格情報に入る"
   ]
  },
  {
   "cell_type": "code",
   "execution_count": null,
   "id": "1c7b930a-3ad9-4166-845b-02c33e21d82c",
   "metadata": {},
   "outputs": [],
   "source": [
    "keyring.set_password('hostname', 'username', 'myP@ssw0rd')"
   ]
  },
  {
   "cell_type": "code",
   "execution_count": null,
   "id": "703f42a4-d198-48fe-aacd-4303dba16b3f",
   "metadata": {},
   "outputs": [],
   "source": [
    "keyring.get_password('hostname', 'username')"
   ]
  },
  {
   "cell_type": "code",
   "execution_count": null,
   "id": "dce771a2-fcef-4bd3-8b7c-59470f1fa93a",
   "metadata": {},
   "outputs": [],
   "source": []
  }
 ],
 "metadata": {
  "kernelspec": {
   "display_name": "Python 3 (ipykernel)",
   "language": "python",
   "name": "python3"
  },
  "language_info": {
   "codemirror_mode": {
    "name": "ipython",
    "version": 3
   },
   "file_extension": ".py",
   "mimetype": "text/x-python",
   "name": "python",
   "nbconvert_exporter": "python",
   "pygments_lexer": "ipython3",
   "version": "3.13.3"
  }
 },
 "nbformat": 4,
 "nbformat_minor": 5
}

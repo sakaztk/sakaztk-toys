{
 "cells": [
  {
   "cell_type": "markdown",
   "id": "bbe78542-bb49-419d-9749-833a6a916bf5",
   "metadata": {},
   "source": [
    "# netmiko デバイスタイプ自動判別"
   ]
  },
  {
   "cell_type": "markdown",
   "id": "2793a05d-f46a-4903-a58a-8b10048daff7",
   "metadata": {},
   "source": [
    "## インポート"
   ]
  },
  {
   "cell_type": "code",
   "execution_count": null,
   "id": "4b91fd62-4312-4ade-826b-bad23c6b519b",
   "metadata": {},
   "outputs": [],
   "source": [
    "from netmiko import ConnectHandler\n",
    "from netmiko.ssh_autodetect import SSHDetect"
   ]
  },
  {
   "cell_type": "markdown",
   "id": "016f08d2-a9f7-466f-88a4-54e7033c038c",
   "metadata": {},
   "source": [
    "## デバイス定義"
   ]
  },
  {
   "cell_type": "code",
   "execution_count": null,
   "id": "67e93595-88b4-4414-a093-69b4c2794e1d",
   "metadata": {},
   "outputs": [],
   "source": [
    "device = {\n",
    "    'device_type': 'autodetect',\n",
    "    'host': '192.168.0.1',\n",
    "    'username': 'admin',\n",
    "    'password': 'Passw0rd'\n",
    "}"
   ]
  },
  {
   "cell_type": "markdown",
   "id": "c4768409-654a-4c90-8247-c870be614956",
   "metadata": {},
   "source": [
    "## デバイスタイプ判別"
   ]
  },
  {
   "cell_type": "code",
   "execution_count": null,
   "id": "8734bcec-d75a-4a93-80c1-b32e87208e5e",
   "metadata": {},
   "outputs": [],
   "source": [
    "guesser = SSHDetect(**device)\n",
    "best_match = guesser.autodetect()\n",
    "print(\"device_type: \" + best_match)"
   ]
  },
  {
   "cell_type": "markdown",
   "id": "18e7158a-d42d-47b1-bc34-dca95c5d4182",
   "metadata": {},
   "source": [
    "## 接続"
   ]
  },
  {
   "cell_type": "code",
   "execution_count": null,
   "id": "284e18b0-58bd-4ed1-ab24-81dac1250e41",
   "metadata": {},
   "outputs": [],
   "source": [
    "device['device_type'] = best_match\n",
    "connection = ConnectHandler(**device)"
   ]
  }
 ],
 "metadata": {
  "kernelspec": {
   "display_name": "Python 3 (ipykernel)",
   "language": "python",
   "name": "python3"
  },
  "language_info": {
   "codemirror_mode": {
    "name": "ipython",
    "version": 3
   },
   "file_extension": ".py",
   "mimetype": "text/x-python",
   "name": "python",
   "nbconvert_exporter": "python",
   "pygments_lexer": "ipython3",
   "version": "3.13.3"
  }
 },
 "nbformat": 4,
 "nbformat_minor": 5
}

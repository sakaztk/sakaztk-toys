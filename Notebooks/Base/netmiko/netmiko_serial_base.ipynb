{
 "cells": [
  {
   "cell_type": "code",
   "execution_count": null,
   "id": "8a4cdbfe-6450-4bde-9195-14c81a144013",
   "metadata": {},
   "outputs": [],
   "source": [
    "from netmiko import ConnectHandler\n",
    "import serial"
   ]
  },
  {
   "cell_type": "code",
   "execution_count": null,
   "id": "feb54b6e-9dca-4f1d-92dc-df52bebb0b67",
   "metadata": {},
   "outputs": [],
   "source": [
    "ports = list(serial.tools.list_ports.comports())\n",
    "for port in ports:\n",
    "    print(port)"
   ]
  },
  {
   "cell_type": "code",
   "execution_count": null,
   "id": "d37fe8bb-0f3a-49c5-8e32-794a128311f9",
   "metadata": {},
   "outputs": [],
   "source": [
    "device = {\n",
    "    \"device_type\": \"cisco_ios_serial\",\n",
    "    \"username\": \"admin\",\n",
    "    \"password\": None,\n",
    "    \"secret\": \"\",\n",
    "    \"serial_settings\": {\n",
    "        'port': 'COM1',\n",
    "        'baudrate': 9600,\n",
    "        'bytesize': serial.EIGHTBITS,\n",
    "        'parity': serial.PARITY_NONE,\n",
    "        'stopbits': serial.STOPBITS_ONE\n",
    "    }\n",
    "}"
   ]
  },
  {
   "cell_type": "code",
   "execution_count": null,
   "id": "a8e7650d-6452-4343-812e-a5449aab3967",
   "metadata": {},
   "outputs": [],
   "source": [
    "connection = ConnectHandler(**device)\n",
    "print(connection)"
   ]
  },
  {
   "cell_type": "code",
   "execution_count": null,
   "id": "9f09dcab-401b-4cc2-9c8c-0acd5ee3660f",
   "metadata": {},
   "outputs": [],
   "source": [
    "print(connection.send_command(\n",
    "    'show run'\n",
    "))"
   ]
  },
  {
   "cell_type": "code",
   "execution_count": null,
   "id": "8dc109c7-5f6e-4af0-a4a0-3bd5198d9312",
   "metadata": {},
   "outputs": [],
   "source": [
    "connection.disconnect()"
   ]
  }
 ],
 "metadata": {
  "kernelspec": {
   "display_name": "Python 3",
   "language": "python",
   "name": "python3"
  },
  "language_info": {
   "codemirror_mode": {
    "name": "ipython",
    "version": 3
   },
   "file_extension": ".py",
   "mimetype": "text/x-python",
   "name": "python",
   "nbconvert_exporter": "python",
   "pygments_lexer": "ipython3",
   "version": "3.11.2"
  }
 },
 "nbformat": 4,
 "nbformat_minor": 5
}

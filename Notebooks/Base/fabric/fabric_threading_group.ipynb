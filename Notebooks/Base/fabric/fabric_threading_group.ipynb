{
 "cells": [
  {
   "cell_type": "markdown",
   "id": "abdd4fff-7922-41a6-8afc-41949395fa90",
   "metadata": {},
   "source": [
    "# インポート"
   ]
  },
  {
   "cell_type": "code",
   "execution_count": null,
   "id": "8f31c6c5-916f-4640-aef0-89b2a4d6333c",
   "metadata": {},
   "outputs": [],
   "source": [
    "from fabric import ThreadingGroup, Config"
   ]
  },
  {
   "cell_type": "markdown",
   "id": "97aada71-e9a9-438e-acb3-3040dc18e35d",
   "metadata": {},
   "source": [
    "# 設定"
   ]
  },
  {
   "cell_type": "code",
   "execution_count": null,
   "id": "d7e0ef91-6afd-4e21-b25a-045dcf0dcbe0",
   "metadata": {},
   "outputs": [],
   "source": [
    "remote_hosts = [\n",
    "    '192.168.0.1',\n",
    "    '192.168.0.2'\n",
    "]\n",
    "remote_user     = 'sakaztk'\n",
    "remote_password = 'sakaztkpassword'\n",
    "sudo_password    = remote_password"
   ]
  },
  {
   "cell_type": "code",
   "execution_count": null,
   "id": "e0ada3bc-52cb-4a4a-ab8e-73f6b9a6f4bb",
   "metadata": {},
   "outputs": [],
   "source": [
    "config = Config(overrides={\n",
    "    'run': {'env': {'LANG': 'C'},'echo': False,'warn': True,'pty': False,'hide': True,'timeout': 20,},\n",
    "    'sudo': {'env': {'LANG': 'C'},'echo': False,'warn': True,'pty': True,'hide': True,'timeout': 20,'password': None,},\n",
    "    'timeouts': {'connect': 5,'command': 30,},\n",
    "})"
   ]
  },
  {
   "cell_type": "markdown",
   "id": "07eb2be6-a6a2-4d65-a33e-198cd08b5ff6",
   "metadata": {},
   "source": [
    "# 接続"
   ]
  },
  {
   "cell_type": "code",
   "execution_count": null,
   "id": "251ebf5b-33a3-4c98-beaf-3f6a67a110d7",
   "metadata": {},
   "outputs": [],
   "source": [
    "group = ThreadingGroup(\n",
    "    *remote_hosts,\n",
    "    user=remote_user,\n",
    "    connect_kwargs={\n",
    "        \"password\": remote_password,\n",
    "    },\n",
    "    config=config\n",
    ")\n",
    "group"
   ]
  },
  {
   "cell_type": "markdown",
   "id": "29623a39-62c1-4aa0-b708-29b60a3bb1b1",
   "metadata": {},
   "source": [
    "# コマンド実行"
   ]
  },
  {
   "cell_type": "code",
   "execution_count": null,
   "id": "a32552d6-2774-44ae-abef-5f52178b6aef",
   "metadata": {},
   "outputs": [],
   "source": [
    "results = group.run('whoami')\n",
    "for conn, result in results.items():\n",
    "    print(\"=\" * 78)\n",
    "    print(f\"{conn.user}@{conn.host}> {result.command}\")\n",
    "    print(f\"exited={result.exited}\")\n",
    "    print(\"--- STDOUT ---\")\n",
    "    print(result.stdout.strip())\n",
    "    print(\"--- STDERR ---\")\n",
    "    print(result.stderr.strip())"
   ]
  },
  {
   "cell_type": "code",
   "execution_count": null,
   "id": "63d9773d-b175-4a78-ba37-b57547530d6a",
   "metadata": {},
   "outputs": [],
   "source": [
    "results = group.sudo('whoami', password=sudo_password)\n",
    "for conn, result in results.items():\n",
    "    print(\"=\" * 78)\n",
    "    print(f\"{conn.user}@{conn.host}> {result.command}\")\n",
    "    print(f\"exited={result.exited}\")\n",
    "    print(\"--- STDOUT ---\")\n",
    "    print(result.stdout.strip())\n",
    "    print(\"--- STDERR ---\")\n",
    "    print(result.stderr.strip())"
   ]
  },
  {
   "cell_type": "code",
   "execution_count": null,
   "id": "0cc58138-f524-4dc8-bf6c-436d66f88e5f",
   "metadata": {},
   "outputs": [],
   "source": []
  }
 ],
 "metadata": {
  "kernelspec": {
   "display_name": "Python 3 (ipykernel)",
   "language": "python",
   "name": "python3"
  },
  "language_info": {
   "codemirror_mode": {
    "name": "ipython",
    "version": 3
   },
   "file_extension": ".py",
   "mimetype": "text/x-python",
   "name": "python",
   "nbconvert_exporter": "python",
   "pygments_lexer": "ipython3",
   "version": "3.13.3"
  }
 },
 "nbformat": 4,
 "nbformat_minor": 5
}

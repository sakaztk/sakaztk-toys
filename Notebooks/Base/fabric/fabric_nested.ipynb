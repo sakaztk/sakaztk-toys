{
 "cells": [
  {
   "cell_type": "markdown",
   "id": "abdd4fff-7922-41a6-8afc-41949395fa90",
   "metadata": {
    "editable": true,
    "slideshow": {
     "slide_type": ""
    },
    "tags": []
   },
   "source": [
    "# インポート"
   ]
  },
  {
   "cell_type": "code",
   "execution_count": null,
   "id": "8f31c6c5-916f-4640-aef0-89b2a4d6333c",
   "metadata": {},
   "outputs": [],
   "source": [
    "from fabric import Connection, Config"
   ]
  },
  {
   "cell_type": "markdown",
   "id": "97aada71-e9a9-438e-acb3-3040dc18e35d",
   "metadata": {
    "editable": true,
    "slideshow": {
     "slide_type": ""
    },
    "tags": []
   },
   "source": [
    "# 定義・設定"
   ]
  },
  {
   "cell_type": "code",
   "execution_count": null,
   "id": "3ca6b5ab-5f86-44db-9e5b-6538b481c1c8",
   "metadata": {},
   "outputs": [],
   "source": [
    "bastion_host    = '192.168.0.1'\n",
    "bastion_user    = 'bastionuser'\n",
    "bastion_passwd  = 'bastionpassword'\n",
    "remote_host     = '192.168.0.2'\n",
    "remote_user     = 'remoteuser'\n",
    "remote_password = 'remotepassword'\n",
    "sudo_password    = remote_password"
   ]
  },
  {
   "cell_type": "markdown",
   "id": "05ec6de4-be77-4f0e-b5b9-62c484e8b299",
   "metadata": {
    "editable": true,
    "slideshow": {
     "slide_type": ""
    },
    "tags": []
   },
   "source": [
    "## 接続設定"
   ]
  },
  {
   "cell_type": "code",
   "execution_count": null,
   "id": "e0ada3bc-52cb-4a4a-ab8e-73f6b9a6f4bb",
   "metadata": {
    "editable": true,
    "slideshow": {
     "slide_type": ""
    },
    "tags": []
   },
   "outputs": [],
   "source": [
    "config = Config(overrides={\n",
    "    'run': {'env': {'LANG': 'C'},'echo': True,'warn': True,'hide': False,'pty': False,'timeout': 20},\n",
    "    'sudo': {'env': {'LANG': 'C'},'echo': True,'warn': True,'hide': False,'pty': True,'timeout': 20,'password': None,},\n",
    "    'timeouts': {'connect': 5,'command': 30,},\n",
    "})"
   ]
  },
  {
   "cell_type": "markdown",
   "id": "1cef17a3-2db2-48ee-bd69-25348fc9f416",
   "metadata": {},
   "source": [
    "# 実行"
   ]
  },
  {
   "cell_type": "markdown",
   "id": "79a0c6ab-3e7e-4119-908a-5d1c80fbf1a8",
   "metadata": {},
   "source": [
    "## 踏み台に接続"
   ]
  },
  {
   "cell_type": "code",
   "execution_count": null,
   "id": "7d14a91c-0def-4db2-a1f7-33a60c914517",
   "metadata": {},
   "outputs": [],
   "source": [
    "bastion = Connection(\n",
    "    port=22,\n",
    "    host=bastion_host,\n",
    "    user=bastion_user,\n",
    "    connect_kwargs={\n",
    "        \"password\": bastion_passwd,\n",
    "    },\n",
    "    config=config,\n",
    ")\n",
    "bastion.run('hostname;date;whoami')"
   ]
  },
  {
   "cell_type": "markdown",
   "id": "e80b770b-556d-4762-91db-718a2f4abf77",
   "metadata": {},
   "source": [
    "## リモートホストに接続"
   ]
  },
  {
   "cell_type": "code",
   "execution_count": null,
   "id": "a76e9464-4973-4569-85e3-3fc7860098de",
   "metadata": {},
   "outputs": [],
   "source": [
    "c = Connection(\n",
    "    port=22,\n",
    "    host = remote_host,\n",
    "    user = remote_user,\n",
    "    connect_kwargs = {\n",
    "        'password': remote_password,\n",
    "    },\n",
    "    config = config,\n",
    "    gateway = bastion,\n",
    ")\n",
    "c.run('hostname;date;whoami')"
   ]
  },
  {
   "cell_type": "code",
   "execution_count": null,
   "id": "a2c4b36c-4b9e-479c-adbd-51ff31299034",
   "metadata": {},
   "outputs": [],
   "source": [
    "c.config.sudo.password = remote_password\n",
    "c.sudo('whoami')"
   ]
  },
  {
   "cell_type": "markdown",
   "id": "bc5ef0c5-3324-4d87-8d68-6d20a8bb2b16",
   "metadata": {},
   "source": [
    "## コマンド実行"
   ]
  },
  {
   "cell_type": "code",
   "execution_count": null,
   "id": "05ff7f57-a636-40ed-be0d-bc749105e1db",
   "metadata": {},
   "outputs": [],
   "source": [
    "c.run(\"whoami\")"
   ]
  },
  {
   "cell_type": "code",
   "execution_count": null,
   "id": "f9058416-b7f0-498c-8ac1-b60155476881",
   "metadata": {},
   "outputs": [],
   "source": [
    "c.close()"
   ]
  },
  {
   "cell_type": "code",
   "execution_count": null,
   "id": "8e93dae9-a1ed-4d47-8387-248562e287dc",
   "metadata": {},
   "outputs": [],
   "source": []
  }
 ],
 "metadata": {
  "kernelspec": {
   "display_name": "Python 3 (ipykernel)",
   "language": "python",
   "name": "python3"
  },
  "language_info": {
   "codemirror_mode": {
    "name": "ipython",
    "version": 3
   },
   "file_extension": ".py",
   "mimetype": "text/x-python",
   "name": "python",
   "nbconvert_exporter": "python",
   "pygments_lexer": "ipython3",
   "version": "3.13.3"
  }
 },
 "nbformat": 4,
 "nbformat_minor": 5
}

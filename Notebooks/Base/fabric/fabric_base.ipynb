{
 "cells": [
  {
   "cell_type": "markdown",
   "id": "abdd4fff-7922-41a6-8afc-41949395fa90",
   "metadata": {
    "editable": true,
    "slideshow": {
     "slide_type": ""
    },
    "tags": []
   },
   "source": [
    "# インポート"
   ]
  },
  {
   "cell_type": "code",
   "execution_count": null,
   "id": "8f31c6c5-916f-4640-aef0-89b2a4d6333c",
   "metadata": {},
   "outputs": [],
   "source": [
    "from fabric import Connection, Config\n",
    "import keyring"
   ]
  },
  {
   "cell_type": "markdown",
   "id": "97aada71-e9a9-438e-acb3-3040dc18e35d",
   "metadata": {},
   "source": [
    "# 設定"
   ]
  },
  {
   "cell_type": "code",
   "execution_count": null,
   "id": "d7e0ef91-6afd-4e21-b25a-045dcf0dcbe0",
   "metadata": {
    "editable": true,
    "slideshow": {
     "slide_type": ""
    },
    "tags": []
   },
   "outputs": [],
   "source": [
    "remote_host     = 'hostname'\n",
    "remote_user     = 'username'\n",
    "remote_password = keyring.get_password(remote_host, remote_user)\n",
    "key_file        = ''\n",
    "key_password    = None"
   ]
  },
  {
   "cell_type": "code",
   "execution_count": null,
   "id": "e0ada3bc-52cb-4a4a-ab8e-73f6b9a6f4bb",
   "metadata": {},
   "outputs": [],
   "source": [
    "config = Config(overrides={\n",
    "    'run': {'env': {'LANG': 'C'},'echo': True,'warn': True,'pty': False,'hide': False,'timeout': 20},\n",
    "    'sudo': {'env': {'LANG': 'C'},'echo': True,'warn': True,'pty': True,'hide': False,'timeout': 20,'password': None},\n",
    "    'timeouts': {'connect': 5,'command': 30,},\n",
    "})"
   ]
  },
  {
   "cell_type": "markdown",
   "id": "07eb2be6-a6a2-4d65-a33e-198cd08b5ff6",
   "metadata": {},
   "source": [
    "# 接続"
   ]
  },
  {
   "cell_type": "code",
   "execution_count": null,
   "id": "b29b9896-4777-400e-8cc5-b8a914a5daea",
   "metadata": {},
   "outputs": [],
   "source": [
    "c = Connection(\n",
    "    port=22,\n",
    "    host=remote_host,\n",
    "    user=remote_user,\n",
    "    connect_kwargs={\n",
    "        'password': remote_password,\n",
    "        'key_filename': key_file,\n",
    "        'passphrase': key_password\n",
    "    },\n",
    "    config=config,\n",
    ")\n",
    "c.run('hostname;date;whoami')"
   ]
  },
  {
   "cell_type": "code",
   "execution_count": null,
   "id": "5da4a8b0-1a4b-4f5a-b3b8-0edccadfe202",
   "metadata": {},
   "outputs": [],
   "source": [
    "c.config.sudo.password = keyring.get_password(remote_host, remote_user)\n",
    "c.sudo('whoami')"
   ]
  },
  {
   "cell_type": "markdown",
   "id": "29623a39-62c1-4aa0-b708-29b60a3bb1b1",
   "metadata": {},
   "source": [
    "# コマンド実行"
   ]
  },
  {
   "cell_type": "code",
   "execution_count": null,
   "id": "a32552d6-2774-44ae-abef-5f52178b6aef",
   "metadata": {},
   "outputs": [],
   "source": [
    "c.run('whoami')"
   ]
  },
  {
   "cell_type": "code",
   "execution_count": null,
   "id": "63d9773d-b175-4a78-ba37-b57547530d6a",
   "metadata": {},
   "outputs": [],
   "source": [
    "c.close()"
   ]
  },
  {
   "cell_type": "code",
   "execution_count": null,
   "id": "0cc58138-f524-4dc8-bf6c-436d66f88e5f",
   "metadata": {},
   "outputs": [],
   "source": []
  }
 ],
 "metadata": {
  "kernelspec": {
   "display_name": "Python 3 (ipykernel)",
   "language": "python",
   "name": "python3"
  },
  "language_info": {
   "codemirror_mode": {
    "name": "ipython",
    "version": 3
   },
   "file_extension": ".py",
   "mimetype": "text/x-python",
   "name": "python",
   "nbconvert_exporter": "python",
   "pygments_lexer": "ipython3",
   "version": "3.13.3"
  }
 },
 "nbformat": 4,
 "nbformat_minor": 5
}

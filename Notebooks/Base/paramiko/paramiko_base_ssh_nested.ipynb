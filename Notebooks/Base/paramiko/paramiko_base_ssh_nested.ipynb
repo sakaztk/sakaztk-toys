{
 "cells": [
  {
   "cell_type": "markdown",
   "id": "3a770e62-4173-4c53-b2f0-b3f90cd68e9d",
   "metadata": {},
   "source": [
    "<p style = \"font-weight:bold; font-size:200%\">踏み台SSH</p>"
   ]
  },
  {
   "cell_type": "markdown",
   "id": "c102e2b6-c40b-4b71-bff2-936649086b1d",
   "metadata": {},
   "source": [
    "# 前処理"
   ]
  },
  {
   "cell_type": "markdown",
   "id": "b9536f72-45b6-4ad0-871a-652662c8dc91",
   "metadata": {},
   "source": [
    "## 接続情報"
   ]
  },
  {
   "cell_type": "code",
   "execution_count": null,
   "id": "9169db6c-0e60-4ca5-b78d-f1b404ba62e6",
   "metadata": {},
   "outputs": [],
   "source": [
    "gateway_host     = ''\n",
    "gateway_user     = ''\n",
    "gateway_password = ''\n",
    "remote_host      = ''\n",
    "remote_user      = ''\n",
    "remote_password  = ''"
   ]
  },
  {
   "cell_type": "markdown",
   "id": "307515a8-43fb-41b4-9b9d-ba652dbd95c3",
   "metadata": {},
   "source": [
    "## インポート"
   ]
  },
  {
   "cell_type": "code",
   "execution_count": null,
   "id": "8057b17b-7da1-4d25-b2ae-91cf0b6282b7",
   "metadata": {},
   "outputs": [],
   "source": [
    "import paramiko\n",
    "import logging\n",
    "logger = logging.getLogger(__name__)\n",
    "logger.setLevel(logging.DEBUG)\n",
    "logging.basicConfig(\n",
    "    format='[%(asctime)s] %(name)s %(levelname)s: %(message)s',\n",
    "    datefmt='%Y-%m-%d %H:%M:%S'\n",
    ")\n",
    "logger.info('Done imports.')"
   ]
  },
  {
   "cell_type": "markdown",
   "id": "66db048b-1fa2-4b12-acf0-31a28f121ae9",
   "metadata": {},
   "source": [
    "## 関数"
   ]
  },
  {
   "cell_type": "markdown",
   "id": "73d4c4e4-dfc6-414e-a038-3f2d5aae2195",
   "metadata": {},
   "source": [
    "### コマンドを実行\n",
    "標準出力と標準エラーを纏めて返す。"
   ]
  },
  {
   "cell_type": "code",
   "execution_count": null,
   "id": "a080fa4b-5bd4-49be-ae54-eea45d5d5ec3",
   "metadata": {},
   "outputs": [],
   "source": [
    "def exec_command(client, command, sudo_passwd=''):\n",
    "    logger.debug(\"[command] \" + command)\n",
    "    output = \"\"\n",
    "    stdin, stdout, stderr = client.exec_command(command, get_pty=True)\n",
    "    if stdout.channel.closed is False:\n",
    "        stdin.write(sudo_passwd + \"\\n\")\n",
    "        stdin.flush()\n",
    "    for line in stdout:\n",
    "        output = output + line\n",
    "    for line in stderr:\n",
    "        output = output + line\n",
    "    return output"
   ]
  },
  {
   "cell_type": "markdown",
   "id": "4da91e8d-e52b-4e70-a1ae-9bc14706d04f",
   "metadata": {},
   "source": [
    "# 接続"
   ]
  },
  {
   "cell_type": "markdown",
   "id": "271b9d79-bdf7-40fa-bcb9-1131615d8d08",
   "metadata": {},
   "source": [
    "## SSH接続"
   ]
  },
  {
   "cell_type": "code",
   "execution_count": null,
   "id": "36f72be0-0ee1-4107-9840-01ee763c606f",
   "metadata": {},
   "outputs": [],
   "source": [
    "gateway = paramiko.SSHClient()\n",
    "gateway.set_missing_host_key_policy(paramiko.AutoAddPolicy())\n",
    "gateway.connect(\n",
    "    hostname=gateway_host,\n",
    "    username=gateway_user,\n",
    "    password=gateway_password,\n",
    ")\n",
    "gateway"
   ]
  },
  {
   "cell_type": "code",
   "execution_count": null,
   "id": "051bd9c7-4346-4edd-be59-c14261f6c448",
   "metadata": {},
   "outputs": [],
   "source": [
    "sock = gateway.get_transport().open_channel(\n",
    "    \"direct-tcpip\", (remote_host, 22), ('', 22)\n",
    ")\n",
    "remote = paramiko.SSHClient()\n",
    "remote.set_missing_host_key_policy(paramiko.AutoAddPolicy())\n",
    "remote.connect(\n",
    "    hostname=remote_host,\n",
    "    username=remote_user,\n",
    "    password=remote_password,\n",
    "    sock=sock\n",
    ")\n",
    "remote"
   ]
  },
  {
   "cell_type": "markdown",
   "id": "811eabdc-53ac-4e5c-85be-0595a0a2c507",
   "metadata": {},
   "source": [
    "# 処理実行"
   ]
  },
  {
   "cell_type": "code",
   "execution_count": null,
   "id": "4d43e35e-813a-49f8-b1ba-f14aaac1fdb8",
   "metadata": {},
   "outputs": [],
   "source": [
    "print(exec_command(gateway,\n",
    "    'hostname'\n",
    "))"
   ]
  },
  {
   "cell_type": "code",
   "execution_count": null,
   "id": "0790f5f8-e4e4-4719-bd4a-4a5ba26d8d15",
   "metadata": {
    "scrolled": true,
    "tags": []
   },
   "outputs": [],
   "source": [
    "print(exec_command(remote,\n",
    "    'hostname'\n",
    "))"
   ]
  },
  {
   "cell_type": "markdown",
   "id": "dc7e5d3b-675d-400e-a735-17cc9720db7b",
   "metadata": {},
   "source": [
    "# 切断"
   ]
  },
  {
   "cell_type": "code",
   "execution_count": null,
   "id": "520fa305-2cc9-4044-ab2b-b914d360aefb",
   "metadata": {},
   "outputs": [],
   "source": [
    "remote.close()"
   ]
  },
  {
   "cell_type": "code",
   "execution_count": null,
   "id": "35383326-b467-4145-8c9a-ca703bdebcbd",
   "metadata": {},
   "outputs": [],
   "source": [
    "gateway.close()"
   ]
  },
  {
   "cell_type": "code",
   "execution_count": null,
   "id": "76466b07-f1b4-49c9-98e0-479ef114d8af",
   "metadata": {},
   "outputs": [],
   "source": []
  }
 ],
 "metadata": {
  "kernelspec": {
   "display_name": "Python 3 (ipykernel)",
   "language": "python",
   "name": "python3"
  },
  "language_info": {
   "codemirror_mode": {
    "name": "ipython",
    "version": 3
   },
   "file_extension": ".py",
   "mimetype": "text/x-python",
   "name": "python",
   "nbconvert_exporter": "python",
   "pygments_lexer": "ipython3",
   "version": "3.12.3"
  },
  "toc-autonumbering": true,
  "toc-showmarkdowntxt": false
 },
 "nbformat": 4,
 "nbformat_minor": 5
}

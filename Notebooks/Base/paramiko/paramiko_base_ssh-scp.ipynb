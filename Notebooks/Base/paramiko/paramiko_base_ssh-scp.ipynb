{
 "cells": [
  {
   "cell_type": "markdown",
   "id": "3a770e62-4173-4c53-b2f0-b3f90cd68e9d",
   "metadata": {},
   "source": [
    "<p style = \"font-weight:bold; font-size:200%\">paramiko ssh & scp ベース</p>"
   ]
  },
  {
   "cell_type": "markdown",
   "id": "c102e2b6-c40b-4b71-bff2-936649086b1d",
   "metadata": {},
   "source": [
    "# 前処理"
   ]
  },
  {
   "cell_type": "markdown",
   "id": "b9536f72-45b6-4ad0-871a-652662c8dc91",
   "metadata": {},
   "source": [
    "## 接続情報"
   ]
  },
  {
   "cell_type": "code",
   "execution_count": null,
   "id": "9169db6c-0e60-4ca5-b78d-f1b404ba62e6",
   "metadata": {},
   "outputs": [],
   "source": [
    "remote_host      = '192.168.0.1'\n",
    "remote_user      = 'user'\n",
    "remote_keyfile   = 'key.pem'\n",
    "remote_password  = None"
   ]
  },
  {
   "cell_type": "markdown",
   "id": "ea1cba45-470d-474d-8e22-f5b1bb3ff75b",
   "metadata": {},
   "source": [
    "## インポート"
   ]
  },
  {
   "cell_type": "code",
   "execution_count": null,
   "id": "35f96e46-578d-4bd1-9a19-da0fc223c4d3",
   "metadata": {},
   "outputs": [],
   "source": [
    "import paramiko, scp"
   ]
  },
  {
   "cell_type": "markdown",
   "id": "307515a8-43fb-41b4-9b9d-ba652dbd95c3",
   "metadata": {},
   "source": [
    "## ロギング"
   ]
  },
  {
   "cell_type": "code",
   "execution_count": null,
   "id": "8057b17b-7da1-4d25-b2ae-91cf0b6282b7",
   "metadata": {},
   "outputs": [],
   "source": [
    "import logging\n",
    "logger = logging.getLogger()\n",
    "logger.setLevel(logging.DEBUG)\n",
    "logging.basicConfig(\n",
    "    format='[%(asctime)s] %(name)s %(levelname)s: %(message)s',\n",
    "    datefmt='%Y-%m-%d %H:%M:%S'\n",
    ")\n",
    "logger"
   ]
  },
  {
   "cell_type": "markdown",
   "id": "66db048b-1fa2-4b12-acf0-31a28f121ae9",
   "metadata": {},
   "source": [
    "## 関数"
   ]
  },
  {
   "cell_type": "markdown",
   "id": "73d4c4e4-dfc6-414e-a038-3f2d5aae2195",
   "metadata": {},
   "source": [
    "### コマンドを実行\n",
    "標準出力と標準エラーをまとめて返す。"
   ]
  },
  {
   "cell_type": "code",
   "execution_count": null,
   "id": "a080fa4b-5bd4-49be-ae54-eea45d5d5ec3",
   "metadata": {},
   "outputs": [],
   "source": [
    "def exec_command(client, command, sudo_passwd=''):\n",
    "    logger.debug(\"[command] \" + command)\n",
    "    output = \"\"\n",
    "    stdin, stdout, stderr = client.exec_command(command, get_pty=True)\n",
    "    if stdout.channel.closed is False:\n",
    "        stdin.write(sudo_passwd + \"\\n\")\n",
    "        stdin.flush()\n",
    "    for line in stdout:\n",
    "        output = output + line\n",
    "    for line in stderr:\n",
    "        output = output + line\n",
    "    return output"
   ]
  },
  {
   "cell_type": "markdown",
   "id": "4da91e8d-e52b-4e70-a1ae-9bc14706d04f",
   "metadata": {},
   "source": [
    "# 接続"
   ]
  },
  {
   "cell_type": "markdown",
   "id": "271b9d79-bdf7-40fa-bcb9-1131615d8d08",
   "metadata": {},
   "source": [
    "## SSH接続"
   ]
  },
  {
   "cell_type": "code",
   "execution_count": null,
   "id": "36f72be0-0ee1-4107-9840-01ee763c606f",
   "metadata": {
    "scrolled": true
   },
   "outputs": [],
   "source": [
    "sshclient = paramiko.SSHClient()\n",
    "sshclient.load_system_host_keys()\n",
    "sshclient.set_missing_host_key_policy(paramiko.AutoAddPolicy())\n",
    "sshclient.connect(\n",
    "    hostname=remote_host,\n",
    "    username=remote_user,\n",
    "    key_filename=remote_keyfile,\n",
    "    password=remote_password,\n",
    "    port=22,\n",
    "    pkey=None,\n",
    "    timeout=None,\n",
    "    allow_agent=True,\n",
    "    look_for_keys=True,\n",
    "    compress=False,\n",
    "    sock=None,\n",
    "    gss_auth=False,\n",
    "    gss_kex=False,\n",
    "    gss_deleg_creds=True,\n",
    "    gss_host=None,\n",
    "    banner_timeout=None,\n",
    "    auth_timeout=None,\n",
    "    channel_timeout=None,\n",
    "    gss_trust_dns=True,\n",
    "    passphrase=None,\n",
    "    disabled_algorithms=None,\n",
    "    transport_factory=None,\n",
    "    auth_strategy=None\n",
    ")\n",
    "sshclient"
   ]
  },
  {
   "cell_type": "markdown",
   "id": "8e2e7184-6e62-4ca3-be8f-c6696cbd0807",
   "metadata": {},
   "source": [
    "## SCP接続"
   ]
  },
  {
   "cell_type": "code",
   "execution_count": null,
   "id": "df582969-8a55-4419-a44f-aa28ac00a48b",
   "metadata": {},
   "outputs": [],
   "source": [
    "scpclient = scp.SCPClient(sshclient.get_transport(), sanitize=lambda x: x)\n",
    "scpclient"
   ]
  },
  {
   "cell_type": "markdown",
   "id": "811eabdc-53ac-4e5c-85be-0595a0a2c507",
   "metadata": {},
   "source": [
    "# 処理実行"
   ]
  },
  {
   "cell_type": "markdown",
   "id": "5a1b7483-c2f5-488e-9664-42206410c4ce",
   "metadata": {},
   "source": [
    "## コマンド実行"
   ]
  },
  {
   "cell_type": "code",
   "execution_count": null,
   "id": "0790f5f8-e4e4-4719-bd4a-4a5ba26d8d15",
   "metadata": {
    "scrolled": true,
    "tags": []
   },
   "outputs": [],
   "source": [
    "print(exec_command(sshclient,\n",
    "    'hostname'\n",
    "))"
   ]
  },
  {
   "cell_type": "code",
   "execution_count": null,
   "id": "ea3401ad-f4ff-455c-8b43-0c953e65f0ae",
   "metadata": {},
   "outputs": [],
   "source": [
    "print(exec_command(sshclient,\n",
    "    'sudo whoami',\n",
    "    'sudopasswd'\n",
    "))"
   ]
  },
  {
   "cell_type": "markdown",
   "id": "e1ea130b-f5c6-4289-9a47-b79c5a9ad2b9",
   "metadata": {},
   "source": [
    "## ファイル転送"
   ]
  },
  {
   "cell_type": "code",
   "execution_count": null,
   "id": "d42a03e8-b68a-4e1c-8d68-60456a0a1f0c",
   "metadata": {},
   "outputs": [],
   "source": [
    "scpclient.get(\n",
    "    remote_path='/pathto/file',\n",
    "    local_path='./local/'\n",
    ")"
   ]
  },
  {
   "cell_type": "markdown",
   "id": "dc7e5d3b-675d-400e-a735-17cc9720db7b",
   "metadata": {},
   "source": [
    "# 切断"
   ]
  },
  {
   "cell_type": "code",
   "execution_count": null,
   "id": "520fa305-2cc9-4044-ab2b-b914d360aefb",
   "metadata": {},
   "outputs": [],
   "source": [
    "scpclient.close()"
   ]
  },
  {
   "cell_type": "code",
   "execution_count": null,
   "id": "35383326-b467-4145-8c9a-ca703bdebcbd",
   "metadata": {},
   "outputs": [],
   "source": [
    "sshclient.close()"
   ]
  },
  {
   "cell_type": "code",
   "execution_count": null,
   "id": "393c1f2a-a258-4936-be15-14ea1b8044e8",
   "metadata": {},
   "outputs": [],
   "source": []
  }
 ],
 "metadata": {
  "kernelspec": {
   "display_name": "Python 3 (ipykernel)",
   "language": "python",
   "name": "python3"
  },
  "language_info": {
   "codemirror_mode": {
    "name": "ipython",
    "version": 3
   },
   "file_extension": ".py",
   "mimetype": "text/x-python",
   "name": "python",
   "nbconvert_exporter": "python",
   "pygments_lexer": "ipython3",
   "version": "3.13.3"
  },
  "toc-autonumbering": true,
  "toc-showmarkdowntxt": false
 },
 "nbformat": 4,
 "nbformat_minor": 5
}

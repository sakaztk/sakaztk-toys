{
 "cells": [
  {
   "cell_type": "markdown",
   "id": "3325f886-9240-4c4c-95df-c8274822b8cf",
   "metadata": {},
   "source": [
    "# 現在の chromedriver-binary のバージョン"
   ]
  },
  {
   "cell_type": "code",
   "execution_count": null,
   "id": "2e2aba40-6031-403e-a318-9591c39f4aa8",
   "metadata": {},
   "outputs": [],
   "source": [
    "pip show chromedriver-binary"
   ]
  },
  {
   "cell_type": "markdown",
   "id": "964de112-2274-495d-a6ea-c08b35e3f446",
   "metadata": {},
   "source": [
    "# 現在のChrome および それに対応するChrome Driver バージョン確認"
   ]
  },
  {
   "cell_type": "code",
   "execution_count": null,
   "id": "9dc31503-c2cf-450e-8cb3-628f9e6c6ba2",
   "metadata": {},
   "outputs": [],
   "source": [
    "$chromeVer = (Get-Item (Get-ItemProperty 'HKLM:\\SOFTWARE\\Microsoft\\Windows\\CurrentVersion\\App Paths\\chrome.exe').'(Default)').VersionInfo.ProductVersion\n",
    "$chromeBuild = $chromeVer -replace '(\\d*\\.\\d*\\.\\d*)\\..*','$1'\n",
    "$content = Invoke-WebRequest -uri \"https://chromedriver.chromium.org/downloads\" -UseBasicParsing\n",
    "$driverLatestUri = ($content.links.href | Select-String -Pattern \"path=$chromeBuild\" | Get-Unique | Sort-Object -Descending)[0]\n",
    "$driverVer = $driverLatestUri -replace \".*($chromeBuild.\\d*).*\",'$1'\n",
    "\"Chrome Version = $chromeVer\"\n",
    "\"Chrome Driver Version = $driverVer\""
   ]
  },
  {
   "cell_type": "markdown",
   "id": "f2e6e091-a25e-4257-851a-72690e1a7876",
   "metadata": {},
   "source": [
    "# chromedriver-binary インストール"
   ]
  },
  {
   "cell_type": "code",
   "execution_count": null,
   "id": "9556af23-2eac-4d6b-ba82-2aa42826f1f5",
   "metadata": {},
   "outputs": [],
   "source": [
    "pip install chromedriver-binary==$driverVer"
   ]
  }
 ],
 "metadata": {
  "kernelspec": {
   "display_name": "PowerShell 5",
   "language": "Powershell",
   "name": "powershell5"
  },
  "language_info": {
   "codemirror_mode": "powershell",
   "file_extension": "ps1",
   "mimetype": "application/x-powershell",
   "name": "powershell",
   "nbconvert_exporter": "script",
   "pygments_lexer": "powershell",
   "version": "5.1.0"
  }
 },
 "nbformat": 4,
 "nbformat_minor": 5
}

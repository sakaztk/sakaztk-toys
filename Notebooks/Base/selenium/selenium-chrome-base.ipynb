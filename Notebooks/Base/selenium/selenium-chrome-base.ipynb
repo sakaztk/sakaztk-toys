{
 "cells": [
  {
   "cell_type": "code",
   "execution_count": 3,
   "id": "52cb2a30-188b-4dd6-835b-527b46af796b",
   "metadata": {},
   "outputs": [],
   "source": [
    "import chromedriver_binary\n",
    "from selenium import webdriver"
   ]
  },
  {
   "cell_type": "code",
   "execution_count": 5,
   "id": "024cd78c-adf1-489b-a678-05109ffdca9c",
   "metadata": {},
   "outputs": [],
   "source": [
    "options = webdriver.ChromeOptions()\n",
    "driver = webdriver.Chrome(options=options)"
   ]
  },
  {
   "cell_type": "code",
   "execution_count": 6,
   "id": "9dd8d10c-1146-4f98-886d-91bdf2d32188",
   "metadata": {},
   "outputs": [],
   "source": [
    "driver.get(\"https://google.com/\")"
   ]
  },
  {
   "cell_type": "code",
   "execution_count": 7,
   "id": "12d89e65-ca5d-48cd-ae2c-5626b9354a66",
   "metadata": {},
   "outputs": [],
   "source": [
    "driver.quit()"
   ]
  }
 ],
 "metadata": {
  "kernelspec": {
   "display_name": "Python 3 (ipykernel)",
   "language": "python",
   "name": "python3"
  },
  "language_info": {
   "codemirror_mode": {
    "name": "ipython",
    "version": 3
   },
   "file_extension": ".py",
   "mimetype": "text/x-python",
   "name": "python",
   "nbconvert_exporter": "python",
   "pygments_lexer": "ipython3",
   "version": "3.11.5"
  }
 },
 "nbformat": 4,
 "nbformat_minor": 5
}

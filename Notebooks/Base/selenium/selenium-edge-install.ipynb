{
 "cells": [
  {
   "cell_type": "markdown",
   "id": "f42089d4-4c59-4879-bf91-59c83aec2c93",
   "metadata": {},
   "source": [
    "# Edge Driver インストール"
   ]
  },
  {
   "cell_type": "markdown",
   "id": "fb9dbd59-7270-4531-843e-267f7885635f",
   "metadata": {},
   "source": [
    "## Edge および Edge Driver バージョン確認"
   ]
  },
  {
   "cell_type": "code",
   "execution_count": null,
   "id": "a0b8ce57-a764-440b-9843-1c48bf4b8282",
   "metadata": {},
   "outputs": [],
   "source": [
    "$os = 'win64'\n",
    "$edgeVer = (Get-ItemProperty -Path HKCU:\\Software\\Microsoft\\Edge\\BLBeacon -Name version).version\n",
    "$edgeBuild = $edgeVer -replace '(\\d*)\\..*','$1'\n",
    "$content = Invoke-WebRequest -uri 'https://developer.microsoft.com/en-us/microsoft-edge/tools/webdriver' -UseBasicParsing\n",
    "$driverLatestUri = ($content.links.href | Select-String -Pattern \"$edgeBuild.*$os\" | Get-Unique | Sort-Object -Descending)[0]\n",
    "$driverVer = $driverLatestUri -replace '.*/(\\d*\\.\\d*\\.\\d*.\\d)/.*','$1'\n",
    "\"Edge Version = $edgeVer\"\n",
    "\"Edge Driver Version = $driverVer\""
   ]
  },
  {
   "cell_type": "markdown",
   "id": "69bff8cd-f3f7-4645-9228-ef4f5bc64cb5",
   "metadata": {},
   "source": [
    "## msedgedriver ダウンロード"
   ]
  },
  {
   "cell_type": "code",
   "execution_count": null,
   "id": "e5cf9324-1181-4990-b2b1-abe4a9aa4de8",
   "metadata": {},
   "outputs": [],
   "source": [
    "Invoke-WebRequest -uri ([String]$driverLatestUri) -OutFile edgedriver.zip -UseBasicParsing -PassThru"
   ]
  },
  {
   "cell_type": "markdown",
   "id": "a5995336-8a92-49a1-9e3d-59acdbdf932a",
   "metadata": {},
   "source": [
    "## msedgedriver 解凍"
   ]
  },
  {
   "cell_type": "code",
   "execution_count": null,
   "id": "238ed9ed-cf9b-46f2-b117-5f4276a3f02c",
   "metadata": {},
   "outputs": [],
   "source": [
    "Add-Type -Assembly System.IO.Compression.FileSystem\n",
    "$zipFile = [IO.Compression.ZipFile]::OpenRead('edgedriver.zip')\n",
    "$zipFile.Entries | where {$_.Name -like '*.exe'} | foreach {\n",
    "    [System.IO.Compression.ZipFileExtensions]::ExtractToFile($_, $_.Name, $true)\n",
    "}\n",
    "$zipFile.Dispose()\n",
    "Remove-Item 'edgedriver.zip'\n",
    ".\\msedgedriver.exe --version"
   ]
  }
 ],
 "metadata": {
  "kernelspec": {
   "display_name": "PowerShell 5",
   "language": "Powershell",
   "name": "powershell5"
  },
  "language_info": {
   "codemirror_mode": "powershell",
   "file_extension": "ps1",
   "mimetype": "application/x-powershell",
   "name": "powershell",
   "nbconvert_exporter": "script",
   "pygments_lexer": "powershell",
   "version": "5.1.0"
  }
 },
 "nbformat": 4,
 "nbformat_minor": 5
}

{
 "cells": [
  {
   "cell_type": "code",
   "execution_count": null,
   "id": "f7932f76-955e-40df-aeba-77445078f6ae",
   "metadata": {},
   "outputs": [],
   "source": [
    "import os\n",
    "from selenium import webdriver\n",
    "from selenium.webdriver.edge.service import Service as EdgeService"
   ]
  },
  {
   "cell_type": "code",
   "execution_count": null,
   "id": "2e0443ab-faab-4b0e-981c-ac9bd34cc938",
   "metadata": {},
   "outputs": [],
   "source": [
    "options = webdriver.EdgeOptions()\n",
    "service = EdgeService(executable_path='./msedgedriver.exe')\n",
    "driver = webdriver.Edge(service=service,options=options)"
   ]
  },
  {
   "cell_type": "code",
   "execution_count": null,
   "id": "59c8bfba-7858-446c-bbbb-25aeada7ca59",
   "metadata": {},
   "outputs": [],
   "source": [
    "driver.get(\"https://microsoft.com/\")"
   ]
  }
 ],
 "metadata": {
  "kernelspec": {
   "display_name": "Python 3 (ipykernel)",
   "language": "python",
   "name": "python3"
  },
  "language_info": {
   "codemirror_mode": {
    "name": "ipython",
    "version": 3
   },
   "file_extension": ".py",
   "mimetype": "text/x-python",
   "name": "python",
   "nbconvert_exporter": "python",
   "pygments_lexer": "ipython3",
   "version": "3.11.5"
  }
 },
 "nbformat": 4,
 "nbformat_minor": 5
}
